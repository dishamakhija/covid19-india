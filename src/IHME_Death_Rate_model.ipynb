{
 "cells": [
  {
   "cell_type": "code",
   "execution_count": 1,
   "metadata": {},
   "outputs": [],
   "source": [
    "import scipy\n",
    "\n",
    "import numpy as np\n",
    "import pandas as pd"
   ]
  },
  {
   "cell_type": "code",
   "execution_count": 2,
   "metadata": {},
   "outputs": [],
   "source": [
    "import datetime"
   ]
  },
  {
   "cell_type": "code",
   "execution_count": 3,
   "metadata": {},
   "outputs": [],
   "source": [
    "from curvefit.core.model import CurveModel\n",
    "from curvefit.core.functions import log_erf, erf"
   ]
  },
  {
   "cell_type": "code",
   "execution_count": 4,
   "metadata": {},
   "outputs": [],
   "source": [
    "# Model number of deaths\n",
    "# Need to transform this data format to an amenable format for the IHME model\n",
    "covid_deaths_india = '../data/time_series_covid19_deaths_India_20200411.csv'"
   ]
  },
  {
   "cell_type": "code",
   "execution_count": 5,
   "metadata": {},
   "outputs": [],
   "source": [
    "# state population\n",
    "population = '../data/state_population.csv'"
   ]
  },
  {
   "cell_type": "code",
   "execution_count": 6,
   "metadata": {},
   "outputs": [],
   "source": [
    "region = 'Karnataka'\n",
    "df_india = pd.read_csv(covid_deaths_india)\n",
    "region_cases = df_india.loc[df_india['Province/State'] == region]"
   ]
  },
  {
   "cell_type": "code",
   "execution_count": 7,
   "metadata": {},
   "outputs": [],
   "source": [
    "df_population = pd.read_csv(population)\n",
    "region_population = int(df_population[df_population['state'] == region]['population'])"
   ]
  },
  {
   "cell_type": "code",
   "execution_count": 8,
   "metadata": {},
   "outputs": [],
   "source": [
    "train_date_start = datetime.datetime(2020, 3, 23)\n",
    "train_date_end = datetime.datetime(2020, 4, 2)\n",
    "test_date_start = datetime.datetime(2020, 4, 3)\n",
    "test_date_end = datetime.datetime(2020, 4, 9)"
   ]
  },
  {
   "cell_type": "markdown",
   "metadata": {},
   "source": [
    "# Prepare data in IHME format"
   ]
  },
  {
   "cell_type": "code",
   "execution_count": 9,
   "metadata": {},
   "outputs": [],
   "source": [
    "def fetch_columns(df, region_population, start_date, end_date):\n",
    "    \"\"\"\n",
    "    Helper function to fetch the columns from the active cases df\n",
    "    Assumption: df contains only 1 row corresponding to the Province/Region \n",
    "    of interest\n",
    "    \"\"\"\n",
    "    # The code for fetching the dates from the df is not clean\n",
    "    # will clean it up later\n",
    "    death_counts = []\n",
    "    date = start_date\n",
    "    delta = datetime.timedelta(days=1)\n",
    "    while date <= end_date:\n",
    "        num_deaths = df[date.strftime('%F')].values[0]\n",
    "        death_rate = num_deaths / region_population\n",
    "        death_counts.append(death_rate)\n",
    "        date += delta\n",
    "    return death_counts\n",
    "\n",
    "def create_ihme_input(region, region_population, death_counts_df, \n",
    "                      train_date_start, train_date_end, \n",
    "                      test_date_start, test_date_end, col_covariate_vars,\n",
    "                      social_distance):\n",
    "    \"\"\"\n",
    "    active_case_df : Active caess for the Province/State under consideration (pd.Dataframe)\n",
    "    train_date_start, train_date_end : Date range for train time frame\n",
    "    test_date_start, test_date_end : Date range for test time frame\n",
    "    \"\"\"\n",
    "    train_death_counts = fetch_columns(death_counts_df, region_population, \n",
    "                                       train_date_start, train_date_end)\n",
    "    test_death_counts = fetch_columns(death_counts_df, region_population, \n",
    "                                      test_date_start, test_date_end)\n",
    "    \n",
    "    num_points = len(train_death_counts)\n",
    "    \n",
    "    assert(len(social_distance) == num_points)\n",
    "    # As of now we assume all variates have same variance\n",
    "    assert(len(col_covariate_vars) == num_points)\n",
    "    \n",
    "    num_train_days = (train_date_end - train_date_start).days + 1\n",
    "    \n",
    "    independent_var   = np.arange(0, num_train_days)\n",
    "    measurement_value = train_death_counts\n",
    "    covariate_var     = col_covariate_vars\n",
    "    social_distance   = [1 for i in range(num_train_days)]\n",
    "    data_group        = num_train_days * [region]\n",
    "    data_dict         = {\n",
    "        'independent_var'   : independent_var   ,\n",
    "        'measurement_value' : measurement_value ,\n",
    "        'covariate_var'     : covariate_var     ,\n",
    "        'social_distance'   : social_distance   ,\n",
    "        'region'        : region        ,\n",
    "    }\n",
    "    train_df = pd.DataFrame(data_dict)\n",
    "    return train_df, train_death_counts, test_death_counts"
   ]
  },
  {
   "cell_type": "markdown",
   "metadata": {},
   "source": [
    "# Model assumptions\n",
    "- Independent variable - Day\n",
    "- Measurement val - number of active cases\n",
    "- Social distancing - 1.0  # TODO: Need to understand scale"
   ]
  },
  {
   "cell_type": "code",
   "execution_count": 10,
   "metadata": {},
   "outputs": [],
   "source": [
    "num_train_days = (train_date_end - train_date_start).days + 1 # Account for the boundary case\n",
    "col_covariate_vars = num_train_days * [1.0]\n",
    "social_distance = num_train_days * [0.0]\n",
    "train_df, train_death_counts, test_death_counts = create_ihme_input(region, region_population, region_cases,\n",
    "                                                                   train_date_start, train_date_end,\n",
    "                                                                   test_date_start, test_date_end,\n",
    "                                                                   col_covariate_vars, social_distance)"
   ]
  },
  {
   "cell_type": "code",
   "execution_count": 11,
   "metadata": {},
   "outputs": [],
   "source": [
    "# Functions\n",
    "# identity function\n",
    "def identity_fun(x):\n",
    "    return x\n",
    "# link function used for alpha, p\n",
    "def exp_fun(x):\n",
    "    return np.exp(x)"
   ]
  },
  {
   "cell_type": "code",
   "execution_count": 12,
   "metadata": {},
   "outputs": [],
   "source": [
    "# curve_model\n",
    "num_params   = 3 # alpha, beta and p\n",
    "num_fe       = 3 # fixed effect parameters\n",
    "col_t        = 'independent_var'\n",
    "col_obs      = 'measurement_value'\n",
    "col_covs     = num_params *[['covariate_var']]\n",
    "col_group    = 'region'\n",
    "param_names  = ['alpha', 'beta', 'p']\n",
    "link_fun     = [exp_fun, identity_fun, exp_fun ]\n",
    "var_link_fun = num_fe * [identity_fun ]\n",
    "fun          = erf"
   ]
  },
  {
   "cell_type": "code",
   "execution_count": 13,
   "metadata": {},
   "outputs": [
    {
     "data": {
      "text/html": [
       "<div>\n",
       "<style scoped>\n",
       "    .dataframe tbody tr th:only-of-type {\n",
       "        vertical-align: middle;\n",
       "    }\n",
       "\n",
       "    .dataframe tbody tr th {\n",
       "        vertical-align: top;\n",
       "    }\n",
       "\n",
       "    .dataframe thead th {\n",
       "        text-align: right;\n",
       "    }\n",
       "</style>\n",
       "<table border=\"1\" class=\"dataframe\">\n",
       "  <thead>\n",
       "    <tr style=\"text-align: right;\">\n",
       "      <th></th>\n",
       "      <th>independent_var</th>\n",
       "      <th>measurement_value</th>\n",
       "      <th>covariate_var</th>\n",
       "      <th>social_distance</th>\n",
       "      <th>region</th>\n",
       "    </tr>\n",
       "  </thead>\n",
       "  <tbody>\n",
       "    <tr>\n",
       "      <th>0</th>\n",
       "      <td>0</td>\n",
       "      <td>1.636787e-08</td>\n",
       "      <td>1.0</td>\n",
       "      <td>1</td>\n",
       "      <td>Karnataka</td>\n",
       "    </tr>\n",
       "    <tr>\n",
       "      <th>1</th>\n",
       "      <td>1</td>\n",
       "      <td>1.636787e-08</td>\n",
       "      <td>1.0</td>\n",
       "      <td>1</td>\n",
       "      <td>Karnataka</td>\n",
       "    </tr>\n",
       "    <tr>\n",
       "      <th>2</th>\n",
       "      <td>2</td>\n",
       "      <td>1.636787e-08</td>\n",
       "      <td>1.0</td>\n",
       "      <td>1</td>\n",
       "      <td>Karnataka</td>\n",
       "    </tr>\n",
       "    <tr>\n",
       "      <th>3</th>\n",
       "      <td>3</td>\n",
       "      <td>3.273574e-08</td>\n",
       "      <td>1.0</td>\n",
       "      <td>1</td>\n",
       "      <td>Karnataka</td>\n",
       "    </tr>\n",
       "    <tr>\n",
       "      <th>4</th>\n",
       "      <td>4</td>\n",
       "      <td>3.273574e-08</td>\n",
       "      <td>1.0</td>\n",
       "      <td>1</td>\n",
       "      <td>Karnataka</td>\n",
       "    </tr>\n",
       "  </tbody>\n",
       "</table>\n",
       "</div>"
      ],
      "text/plain": [
       "   independent_var  measurement_value  covariate_var  social_distance  \\\n",
       "0                0       1.636787e-08            1.0                1   \n",
       "1                1       1.636787e-08            1.0                1   \n",
       "2                2       1.636787e-08            1.0                1   \n",
       "3                3       3.273574e-08            1.0                1   \n",
       "4                4       3.273574e-08            1.0                1   \n",
       "\n",
       "      region  \n",
       "0  Karnataka  \n",
       "1  Karnataka  \n",
       "2  Karnataka  \n",
       "3  Karnataka  \n",
       "4  Karnataka  "
      ]
     },
     "execution_count": 13,
     "metadata": {},
     "output_type": "execute_result"
    }
   ],
   "source": [
    "train_df.head()"
   ]
  },
  {
   "cell_type": "code",
   "execution_count": 14,
   "metadata": {},
   "outputs": [],
   "source": [
    "curve_model = CurveModel(\n",
    "    train_df,\n",
    "    col_t,\n",
    "    col_obs,\n",
    "    col_covs,\n",
    "    col_group,\n",
    "    param_names,\n",
    "    link_fun,\n",
    "    var_link_fun,\n",
    "    fun\n",
    ")"
   ]
  },
  {
   "cell_type": "code",
   "execution_count": 15,
   "metadata": {},
   "outputs": [],
   "source": [
    "# Initialize params\n",
    "fe_init   = np.zeros(num_fe)\n",
    "re_init   = np.zeros(num_fe)\n",
    "fe_bounds = [[-np.inf, np.inf]] * num_fe\n",
    "re_bounds = [[0.0, 0.0]] * num_fe"
   ]
  },
  {
   "cell_type": "code",
   "execution_count": 16,
   "metadata": {},
   "outputs": [],
   "source": [
    "curve_model.fit_params(fe_init, re_init, fe_bounds, re_bounds)\n",
    "params_estimate = curve_model.params\n",
    "fe_estimate     = curve_model.result.x[: num_fe]"
   ]
  },
  {
   "cell_type": "code",
   "execution_count": 17,
   "metadata": {},
   "outputs": [],
   "source": [
    "out = curve_model.predict(\n",
    "    t=np.array(np.arange(11, 18)),\n",
    "    group_name=region\n",
    ")"
   ]
  },
  {
   "cell_type": "code",
   "execution_count": 18,
   "metadata": {},
   "outputs": [
    {
     "data": {
      "text/plain": [
       "[4.9103615946085014e-08,\n",
       " 4.9103615946085014e-08,\n",
       " 6.547148792811335e-08,\n",
       " 6.547148792811335e-08,\n",
       " 6.547148792811335e-08,\n",
       " 6.547148792811335e-08,\n",
       " 8.18393599101417e-08]"
      ]
     },
     "execution_count": 18,
     "metadata": {},
     "output_type": "execute_result"
    }
   ],
   "source": [
    "test_death_counts"
   ]
  },
  {
   "cell_type": "code",
   "execution_count": 19,
   "metadata": {},
   "outputs": [
    {
     "data": {
      "text/plain": [
       "array([5.15652383e-08, 5.18245976e-08, 5.19483107e-08, 5.20028443e-08,\n",
       "       5.20250593e-08, 5.20334222e-08, 5.20363316e-08])"
      ]
     },
     "execution_count": 19,
     "metadata": {},
     "output_type": "execute_result"
    }
   ],
   "source": [
    "out"
   ]
  },
  {
   "cell_type": "code",
   "execution_count": 20,
   "metadata": {},
   "outputs": [
    {
     "data": {
      "text/plain": [
       "0.24568961432774808"
      ]
     },
     "execution_count": 20,
     "metadata": {},
     "output_type": "execute_result"
    }
   ],
   "source": [
    "np.sqrt(np.mean((np.log(out) - np.log(test_death_counts))**2))"
   ]
  },
  {
   "cell_type": "code",
   "execution_count": 21,
   "metadata": {},
   "outputs": [],
   "source": [
    "def mean_absolute_percentage_error(y_true, y_pred):      \n",
    "    return np.mean(np.abs((y_true - y_pred) / y_true)) * 100"
   ]
  },
  {
   "cell_type": "code",
   "execution_count": 22,
   "metadata": {},
   "outputs": [
    {
     "data": {
      "text/plain": [
       "18.465808384169176"
      ]
     },
     "execution_count": 22,
     "metadata": {},
     "output_type": "execute_result"
    }
   ],
   "source": [
    "mean_absolute_percentage_error(test_death_counts, out)"
   ]
  },
  {
   "cell_type": "code",
   "execution_count": 23,
   "metadata": {},
   "outputs": [],
   "source": [
    "out_train = curve_model.predict(\n",
    "    t=np.array(np.arange(0, 11)),\n",
    "    group_name=region\n",
    ")"
   ]
  },
  {
   "cell_type": "code",
   "execution_count": 24,
   "metadata": {},
   "outputs": [
    {
     "data": {
      "text/plain": [
       "11.621132813276526"
      ]
     },
     "execution_count": 24,
     "metadata": {},
     "output_type": "execute_result"
    }
   ],
   "source": [
    "mean_absolute_percentage_error(train_death_counts, out_train)"
   ]
  },
  {
   "cell_type": "code",
   "execution_count": null,
   "metadata": {},
   "outputs": [],
   "source": [
    "params_estimate"
   ]
  },
  {
   "cell_type": "code",
   "execution_count": null,
   "metadata": {},
   "outputs": [],
   "source": []
  }
 ],
 "metadata": {
  "kernelspec": {
   "display_name": "Python [conda env:covid] *",
   "language": "python",
   "name": "conda-env-covid-py"
  },
  "language_info": {
   "codemirror_mode": {
    "name": "ipython",
    "version": 3
   },
   "file_extension": ".py",
   "mimetype": "text/x-python",
   "name": "python",
   "nbconvert_exporter": "python",
   "pygments_lexer": "ipython3",
   "version": "3.6.10"
  }
 },
 "nbformat": 4,
 "nbformat_minor": 4
}
