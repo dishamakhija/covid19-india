{
 "cells": [
  {
   "cell_type": "code",
   "execution_count": null,
   "metadata": {
    "pycharm": {
     "is_executing": false
    }
   },
   "outputs": [],
   "source": [
    "import json\n",
    "import random\n",
    "from pathlib import Path\n",
    "import collections\n",
    "\n",
    "import pandas as pd\n",
    "import numpy as np\n",
    "\n",
    "%load_ext autoreload\n",
    "%autoreload 2\n",
    "Path.ls = lambda x: list(x.iterdir())\n"
   ]
  },
  {
   "cell_type": "code",
   "execution_count": 4,
   "metadata": {},
   "outputs": [],
   "source": [
    "#Select granularity to get the data\n",
    "REGION_FIELDNAME = 'detecteddistrict' #detecteddistrict - for district; detectedcity - for city (as of 4th May-unreliable as entries are accurate at district level only); detectedstate - for state\n",
    "\n",
    "#OUTPUT filename region specifier\n",
    "REGION_OUTPUT_FILE_REG_SPECCIFIER='district'\n",
    "\n",
    "#what data to extract - *ONLY* Confirmed cases is reliably extracted from these APIs. From 20th Apr onwards: Hospitalized = confirmed\n",
    "DATA_TYPE = 'confirmed' #'confirmed' - default; 'Hospitalized'; 'Recovered'; 'Deceased'"
   ]
  },
  {
   "cell_type": "code",
   "execution_count": 5,
   "metadata": {},
   "outputs": [
    {
     "name": "stdout",
     "output_type": "stream",
     "text": [
      "d1 = 20200508\n"
     ]
    }
   ],
   "source": [
    "from datetime import date\n",
    "from dateutil.relativedelta import relativedelta\n",
    "\n",
    "today = date.today()\n",
    "yesterday = today - relativedelta(days=1)\n",
    "\n",
    "# dd/mm/YY\n",
    "current_date = yesterday.strftime(\"%Y%m%d\")\n",
    "print(\"d1 =\", current_date)"
   ]
  },
  {
   "cell_type": "code",
   "execution_count": 6,
   "metadata": {},
   "outputs": [],
   "source": [
    "import urllib.request, json\n",
    "from urllib.error import HTTPError\n",
    "\n",
    "# def get_raw_data(raw_web_url=\"https://api.covid19india.org/raw_data.json\"):\n",
    "#     with urllib.request.urlopen(raw_web_url) as url:\n",
    "#         data_dict = json.loads(url.read().decode())\n",
    "#         return data_dict[\"raw_data\"]\n",
    "\n",
    "\n",
    "def get_stats_history(stats_history_url=\"https://api.rootnet.in/covid19-in/stats/history\"):\n",
    "    try:\n",
    "        with urllib.request.urlopen(stats_history_url) as url:\n",
    "            data_dict = json.loads(url.read().decode())\n",
    "            return data_dict\n",
    "    except HTTPError as e:\n",
    "        print(f\"Using local backup of {stats_history_url}\")\n",
    "        with open(\"history.json\") as f:\n",
    "            return json.loads(f.read())\n",
    "\n",
    "def get_stats_history_district(stats_history_url=\"https://api.covid19india.org/raw_data.json\"):\n",
    "    try:\n",
    "        with urllib.request.urlopen(stats_history_url) as url:\n",
    "            data_dict = json.loads(url.read().decode())\n",
    "            return data_dict\n",
    "    except HTTPError as e:\n",
    "        print(f\"Using local backup of {stats_history_url}\")\n",
    "        with open(\"history.json\") as f:\n",
    "            return json.loads(f.read())\n",
    "        \n",
    "#Given the different jsons across time ranges. Expecting an array of source urls\n",
    "def get_stats_history_district_multiple(stats_history_urls=[\"https://api.covid19india.org/raw_data1.json\",\"https://api.covid19india.org/raw_data2.json\"]):\n",
    "    data_list=[]\n",
    "    try:\n",
    "        for stats_history_url in stats_history_urls:\n",
    "            with urllib.request.urlopen(stats_history_url) as url:\n",
    "                data_dict = json.loads(url.read().decode())\n",
    "                print (len(data_dict['raw_data']))\n",
    "                data_list.extend(data_dict['raw_data'])\n",
    "        return data_list\n",
    "    except HTTPError as e:\n",
    "        print(f\"Failure! Source URLs not found!!!\")\n",
    "#         with open(\"history.json\") as f:\n",
    "#             return json.loads(f.read())\n",
    "        \n",
    "# def get_state_data(\n",
    "#     case_count_url=\"https://api.covid19india.org/state_district_wise.json\",\n",
    "# ):\n",
    "#     with urllib.request.urlopen(case_count_url) as url:\n",
    "#         data_dict = json.loads(url.read().decode())\n",
    "#         return data_dict\n",
    "\n",
    "\n",
    "# def get_case_count(data, state=\"Karnataka\"):\n",
    "#     df = pd.DataFrame(data[state][\"districtData\"])\n",
    "#     df = df.transpose()\n",
    "#     df.reset_index(inplace=True)\n",
    "#     df.rename(columns={\"confirmed\": \"CaseCount\", \"index\": \"District\"}, inplace=True)\n",
    "#     df.drop(columns=[\"lastupdatedtime\"], inplace=True)\n",
    "#     return df"
   ]
  },
  {
   "cell_type": "code",
   "execution_count": 7,
   "metadata": {},
   "outputs": [
    {
     "name": "stdout",
     "output_type": "stream",
     "text": [
      "17306\n",
      "10585\n",
      "9088\n"
     ]
    }
   ],
   "source": [
    "from typing import List, Dict\n",
    "#stats:List = get_stats_history()[\"data\"]\n",
    "# stats:List = get_stats_history_district()[\"raw_data\"]\n",
    "stats_pre27Apr:List = get_stats_history_district_multiple()\n",
    "stats_post27Apr:List = get_stats_history_district_multiple([\"https://api.covid19india.org/raw_data3.json\"])"
   ]
  },
  {
   "cell_type": "code",
   "execution_count": 9,
   "metadata": {},
   "outputs": [],
   "source": [
    "with urllib.request.urlopen('https://api.covid19india.org/raw_data1.json') as url:\n",
    "    data_dict = json.loads(url.read().decode())\n",
    "raw_data1_df = pd.DataFrame.from_records(data_dict['raw_data'])\n",
    "with urllib.request.urlopen('https://api.covid19india.org/raw_data2.json') as url:\n",
    "    data_dict = json.loads(url.read().decode())\n",
    "raw_data2_df = pd.DataFrame.from_records(data_dict['raw_data'])\n",
    "with urllib.request.urlopen('https://api.covid19india.org/raw_data3.json') as url:\n",
    "    data_dict = json.loads(url.read().decode())\n",
    "raw_data3_df = pd.DataFrame.from_records(data_dict['raw_data'])"
   ]
  },
  {
   "cell_type": "code",
   "execution_count": 18,
   "metadata": {},
   "outputs": [
    {
     "data": {
      "text/plain": [
       "Index(['agebracket', 'contractedfromwhichpatientsuspected', 'currentstatus',\n",
       "       'dateannounced', 'detectedcity', 'detecteddistrict', 'detectedstate',\n",
       "       'entryid', 'gender', 'nationality', 'notes', 'numcases',\n",
       "       'patientnumber', 'source1', 'source2', 'source3', 'statecode',\n",
       "       'statepatientnumber', 'statuschangedate', 'typeoftransmission'],\n",
       "      dtype='object')"
      ]
     },
     "execution_count": 18,
     "metadata": {},
     "output_type": "execute_result"
    }
   ],
   "source": [
    "raw_data3_df.columns"
   ]
  },
  {
   "cell_type": "code",
   "execution_count": 25,
   "metadata": {},
   "outputs": [
    {
     "data": {
      "text/plain": [
       "agebracket                             56\n",
       "contractedfromwhichpatientsuspected    56\n",
       "currentstatus                          56\n",
       "dateannounced                          56\n",
       "detectedcity                           56\n",
       "detecteddistrict                       56\n",
       "detectedstate                          56\n",
       "entryid                                56\n",
       "gender                                 56\n",
       "nationality                            56\n",
       "notes                                  56\n",
       "numcases                               56\n",
       "patientnumber                          56\n",
       "source1                                56\n",
       "source2                                56\n",
       "source3                                56\n",
       "statecode                              56\n",
       "statepatientnumber                     56\n",
       "statuschangedate                       56\n",
       "typeoftransmission                     56\n",
       "dtype: int64"
      ]
     },
     "execution_count": 25,
     "metadata": {},
     "output_type": "execute_result"
    }
   ],
   "source": [
    "raw_data3_df[raw_data3_df.numcases==\"\"].count()"
   ]
  },
  {
   "cell_type": "code",
   "execution_count": 22,
   "metadata": {},
   "outputs": [
    {
     "data": {
      "text/html": [
       "<div>\n",
       "<style scoped>\n",
       "    .dataframe tbody tr th:only-of-type {\n",
       "        vertical-align: middle;\n",
       "    }\n",
       "\n",
       "    .dataframe tbody tr th {\n",
       "        vertical-align: top;\n",
       "    }\n",
       "\n",
       "    .dataframe thead th {\n",
       "        text-align: right;\n",
       "    }\n",
       "</style>\n",
       "<table border=\"1\" class=\"dataframe\">\n",
       "  <thead>\n",
       "    <tr style=\"text-align: right;\">\n",
       "      <th></th>\n",
       "      <th>agebracket</th>\n",
       "      <th>contractedfromwhichpatientsuspected</th>\n",
       "      <th>currentstatus</th>\n",
       "      <th>dateannounced</th>\n",
       "      <th>detectedcity</th>\n",
       "      <th>detecteddistrict</th>\n",
       "      <th>detectedstate</th>\n",
       "      <th>entryid</th>\n",
       "      <th>gender</th>\n",
       "      <th>nationality</th>\n",
       "      <th>notes</th>\n",
       "      <th>numcases</th>\n",
       "      <th>patientnumber</th>\n",
       "      <th>source1</th>\n",
       "      <th>source2</th>\n",
       "      <th>source3</th>\n",
       "      <th>statecode</th>\n",
       "      <th>statepatientnumber</th>\n",
       "      <th>statuschangedate</th>\n",
       "      <th>typeoftransmission</th>\n",
       "    </tr>\n",
       "  </thead>\n",
       "  <tbody>\n",
       "  </tbody>\n",
       "</table>\n",
       "</div>"
      ],
      "text/plain": [
       "Empty DataFrame\n",
       "Columns: [agebracket, contractedfromwhichpatientsuspected, currentstatus, dateannounced, detectedcity, detecteddistrict, detectedstate, entryid, gender, nationality, notes, numcases, patientnumber, source1, source2, source3, statecode, statepatientnumber, statuschangedate, typeoftransmission]\n",
       "Index: []"
      ]
     },
     "execution_count": 22,
     "metadata": {},
     "output_type": "execute_result"
    }
   ],
   "source": [
    "raw_data3_df[raw_data3_df.numcases.isna()]"
   ]
  },
  {
   "cell_type": "code",
   "execution_count": 19,
   "metadata": {},
   "outputs": [
    {
     "data": {
      "text/plain": [
       "Index(['agebracket', 'backupnotes', 'contractedfromwhichpatientsuspected',\n",
       "       'currentstatus', 'dateannounced', 'detectedcity', 'detecteddistrict',\n",
       "       'detectedstate', 'estimatedonsetdate', 'gender', 'nationality', 'notes',\n",
       "       'patientnumber', 'source1', 'source2', 'source3', 'statecode',\n",
       "       'statepatientnumber', 'statuschangedate', 'typeoftransmission'],\n",
       "      dtype='object')"
      ]
     },
     "execution_count": 19,
     "metadata": {},
     "output_type": "execute_result"
    }
   ],
   "source": [
    "raw_data2_df.columns"
   ]
  },
  {
   "cell_type": "code",
   "execution_count": 15,
   "metadata": {},
   "outputs": [
    {
     "data": {
      "text/plain": [
       "array(['', '01/05/2020', '02/05/2020', '03/05/2020', '04/05/2020',\n",
       "       '05/05/2020', '06/05/2020', '07/05/2020', '08/05/2020',\n",
       "       '09/05/2020', '27/04/2020', '28/04/2020', '29/04/2020',\n",
       "       '30/04/2020'], dtype=object)"
      ]
     },
     "execution_count": 15,
     "metadata": {},
     "output_type": "execute_result"
    }
   ],
   "source": [
    "np.unique(raw_data3_df[[\"dateannounced\"]])"
   ]
  },
  {
   "cell_type": "code",
   "execution_count": 8,
   "metadata": {},
   "outputs": [],
   "source": [
    "# set([i['currentstatus'] for i in stats_pre27Apr])\n",
    "# [i for i in stats_pre27Apr if i['currentstatus']=='Migrated']"
   ]
  },
  {
   "cell_type": "code",
   "execution_count": null,
   "metadata": {},
   "outputs": [],
   "source": [
    "if DATA_TYPE == 'confirmed':\n",
    "#     district_df = pd.DataFrame([(i[REGION_FIELDNAME],i['dateannounced']) for i in stats])\n",
    "    district_df_ind = pd.DataFrame([(i[REGION_FIELDNAME],i['dateannounced'],1) \n",
    "                                    for i in stats_pre27Apr])\n",
    "    district_df_agg = pd.DataFrame([(i[REGION_FIELDNAME],i['dateannounced'],int(i['numcases'])) \n",
    "                                    for i in stats_post27Apr \n",
    "                                    if i['currentstatus']=='Hospitalized' and 'numcases' in i and i['numcases']!=''])\n",
    "    district_df = district_df_ind.append(district_df_agg)\n",
    "else:\n",
    "    district_df_ind = pd.DataFrame([(i[REGION_FIELDNAME],i['statuschangedate'],1) \n",
    "                                    for i in stats_pre27Apr \n",
    "                                    if i['currentstatus']==DATA_TYPE])\n",
    "    district_df_agg = pd.DataFrame([(i[REGION_FIELDNAME],i['dateannounced'],int(i['numcases'])) \n",
    "                                    for i in stats_post27Apr \n",
    "                                    if i['currentstatus']==DATA_TYPE and 'numcases' in i and i['numcases']!=''])\n",
    "    district_df = district_df_ind.append(district_df_agg)\n",
    "# column names in JHU format\n",
    "REGION = 'Province/State'\n",
    "district_df.columns = [REGION,'date','counts']"
   ]
  },
  {
   "cell_type": "code",
   "execution_count": 10,
   "metadata": {},
   "outputs": [],
   "source": [
    "# display(district_df)"
   ]
  },
  {
   "cell_type": "code",
   "execution_count": null,
   "metadata": {},
   "outputs": [],
   "source": [
    "import pandas as pd\n",
    "from datetime import datetime\n",
    "date_list = pd.date_range(start=\"2020-01-22\",end=datetime.today()-relativedelta(days=1)).strftime(\"%d/%m/%Y\")"
   ]
  },
  {
   "cell_type": "code",
   "execution_count": 12,
   "metadata": {},
   "outputs": [],
   "source": [
    "# district_df_pivot = pd.pivot_table(district_df,values=REGION,index=[REGION],columns=['date'],aggfunc=np.count_nonzero,fill_value=0)\n",
    "# district_df_pivot = pd.pivot_table(district_df,values=REGION,index=[REGION],columns=['date'],aggfunc={REGION: np.count_nonzero},fill_value=0)\n",
    "district_df_pivot = pd.pivot_table(district_df,values='counts',index=[REGION],columns=['date'],aggfunc={'counts': np.sum},fill_value=0)\n",
    "district_df_pivot_dated = district_df_pivot.reindex(date_list, axis=1).fillna(0)\n",
    "district_df_final = district_df_pivot_dated.cumsum(axis=1)"
   ]
  },
  {
   "cell_type": "code",
   "execution_count": 13,
   "metadata": {},
   "outputs": [],
   "source": [
    "# district_df_pivot_dated[district_df_pivot_dated[REGION]=='Pune']\n",
    "# display(district_df_pivot_dated)"
   ]
  },
  {
   "cell_type": "markdown",
   "metadata": {},
   "source": [
    "## Transform to the JHU data format\n",
    "See this [Github link to data](https://github.com/CSSEGISandData/COVID-19/blob/master/csse_covid_19_data/csse_covid_19_time_series/time_series_covid19_confirmed_global.csv) for reference"
   ]
  },
  {
   "cell_type": "code",
   "execution_count": null,
   "metadata": {},
   "outputs": [],
   "source": [
    "district_df_final.insert(0, \"Country/Region\", \"India\")\n",
    "district_df_final.insert(1, \"Lat\", 20)\n",
    "district_df_final.insert(2, \"Long\", 70)"
   ]
  },
  {
   "cell_type": "code",
   "execution_count": null,
   "metadata": {},
   "outputs": [],
   "source": [
    "for date in date_list:\n",
    "    datenew = datetime.strptime(date, \"%d/%m/%Y\")\n",
    "    datenew = datetime.strftime(datenew, \"%-m/%-d/%y\")\n",
    "    district_df_final = district_df_final.rename(columns = {date:datenew})"
   ]
  },
  {
   "cell_type": "code",
   "execution_count": null,
   "metadata": {},
   "outputs": [],
   "source": [
    "district_df_final.head()"
   ]
  },
  {
   "cell_type": "code",
   "execution_count": 17,
   "metadata": {},
   "outputs": [],
   "source": [
    "fname = f'../data/time_series_covid19_{DATA_TYPE}_India_{REGION_OUTPUT_FILE_REG_SPECCIFIER}_{current_date}.csv'\n",
    "district_df_final.to_csv(fname, header=True)"
   ]
  },
  {
   "cell_type": "code",
   "execution_count": 18,
   "metadata": {},
   "outputs": [],
   "source": [
    "# !cat $fname"
   ]
  },
  {
   "cell_type": "code",
   "execution_count": 19,
   "metadata": {},
   "outputs": [
    {
     "data": {
      "text/plain": [
       "'../data/time_series_covid19_confirmed_India_district_20200508.csv'"
      ]
     },
     "execution_count": 19,
     "metadata": {},
     "output_type": "execute_result"
    }
   ],
   "source": [
    "fname"
   ]
  },
  {
   "cell_type": "code",
   "execution_count": 20,
   "metadata": {},
   "outputs": [
    {
     "data": {
      "text/html": [
       "<div>\n",
       "<style scoped>\n",
       "    .dataframe tbody tr th:only-of-type {\n",
       "        vertical-align: middle;\n",
       "    }\n",
       "\n",
       "    .dataframe tbody tr th {\n",
       "        vertical-align: top;\n",
       "    }\n",
       "\n",
       "    .dataframe thead th {\n",
       "        text-align: right;\n",
       "    }\n",
       "</style>\n",
       "<table border=\"1\" class=\"dataframe\">\n",
       "  <thead>\n",
       "    <tr style=\"text-align: right;\">\n",
       "      <th></th>\n",
       "      <th>Province/State</th>\n",
       "      <th>Country/Region</th>\n",
       "      <th>Lat</th>\n",
       "      <th>Long</th>\n",
       "      <th>1/22/20</th>\n",
       "      <th>1/23/20</th>\n",
       "      <th>1/24/20</th>\n",
       "      <th>1/25/20</th>\n",
       "      <th>1/26/20</th>\n",
       "      <th>1/27/20</th>\n",
       "      <th>...</th>\n",
       "      <th>4/29/20</th>\n",
       "      <th>4/30/20</th>\n",
       "      <th>5/1/20</th>\n",
       "      <th>5/2/20</th>\n",
       "      <th>5/3/20</th>\n",
       "      <th>5/4/20</th>\n",
       "      <th>5/5/20</th>\n",
       "      <th>5/6/20</th>\n",
       "      <th>5/7/20</th>\n",
       "      <th>5/8/20</th>\n",
       "    </tr>\n",
       "  </thead>\n",
       "  <tbody>\n",
       "    <tr>\n",
       "      <th>393</th>\n",
       "      <td>Pune</td>\n",
       "      <td>India</td>\n",
       "      <td>20</td>\n",
       "      <td>70</td>\n",
       "      <td>0.0</td>\n",
       "      <td>0.0</td>\n",
       "      <td>0.0</td>\n",
       "      <td>0.0</td>\n",
       "      <td>0.0</td>\n",
       "      <td>0.0</td>\n",
       "      <td>...</td>\n",
       "      <td>820.0</td>\n",
       "      <td>876.0</td>\n",
       "      <td>944.0</td>\n",
       "      <td>967.0</td>\n",
       "      <td>1024.0</td>\n",
       "      <td>1646.0</td>\n",
       "      <td>1690.0</td>\n",
       "      <td>1715.0</td>\n",
       "      <td>1757.0</td>\n",
       "      <td>1805.0</td>\n",
       "    </tr>\n",
       "  </tbody>\n",
       "</table>\n",
       "<p>1 rows × 112 columns</p>\n",
       "</div>"
      ],
      "text/plain": [
       "    Province/State Country/Region  Lat  Long  1/22/20  1/23/20  1/24/20  \\\n",
       "393           Pune          India   20    70      0.0      0.0      0.0   \n",
       "\n",
       "     1/25/20  1/26/20  1/27/20   ...    4/29/20  4/30/20  5/1/20  5/2/20  \\\n",
       "393      0.0      0.0      0.0   ...      820.0    876.0   944.0   967.0   \n",
       "\n",
       "     5/3/20  5/4/20  5/5/20  5/6/20  5/7/20  5/8/20  \n",
       "393  1024.0  1646.0  1690.0  1715.0  1757.0  1805.0  \n",
       "\n",
       "[1 rows x 112 columns]"
      ]
     },
     "execution_count": 20,
     "metadata": {},
     "output_type": "execute_result"
    }
   ],
   "source": [
    "temp = district_df_final.reset_index()\n",
    "temp[temp[REGION]=='Pune']"
   ]
  },
  {
   "cell_type": "code",
   "execution_count": null,
   "metadata": {},
   "outputs": [],
   "source": []
  }
 ],
 "metadata": {
  "kernelspec": {
   "display_name": "Python 3",
   "language": "python",
   "name": "python3"
  },
  "language_info": {
   "codemirror_mode": {
    "name": "ipython",
    "version": 3
   },
   "file_extension": ".py",
   "mimetype": "text/x-python",
   "name": "python",
   "nbconvert_exporter": "python",
   "pygments_lexer": "ipython3",
   "version": "3.7.3"
  },
  "pycharm": {
   "stem_cell": {
    "cell_type": "raw",
    "metadata": {
     "collapsed": false
    },
    "source": [
     "    #%%\n",
     "#README\n",
     "# Uses covid19india.org api to extract district wise data which is reliable as of 5th May 2020 \n",
     "# only for 'confirmed' cases\n",
     "# For state level data - there are more reliable APIs\n"
    ]
   }
  }
 },
 "nbformat": 4,
 "nbformat_minor": 2
}
