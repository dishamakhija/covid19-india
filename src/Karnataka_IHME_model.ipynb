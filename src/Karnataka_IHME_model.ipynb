{
 "cells": [
  {
   "cell_type": "code",
   "execution_count": 1,
   "metadata": {},
   "outputs": [],
   "source": [
    "import scipy\n",
    "\n",
    "import numpy as np\n",
    "import pandas as pd"
   ]
  },
  {
   "cell_type": "code",
   "execution_count": 2,
   "metadata": {},
   "outputs": [],
   "source": [
    "import datetime"
   ]
  },
  {
   "cell_type": "code",
   "execution_count": 3,
   "metadata": {},
   "outputs": [],
   "source": [
    "from curvefit.core.model import CurveModel\n",
    "from curvefit.core.functions import log_erf, erf"
   ]
  },
  {
   "cell_type": "code",
   "execution_count": 4,
   "metadata": {},
   "outputs": [],
   "source": [
    "# Model active cases\n",
    "# Need to transform this data format to an amenable format for the IHME model\n",
    "active_cases_india = '../data/time_series_covid19_confirmed_India_20200410.csv'\n",
    "# Active cases Bengaluru: as of 10 April from https://github.com/dishamakhija/covid19-india/\n",
    "active_cases_bengaluru = '../data/time_series_bengaluru.csv'"
   ]
  },
  {
   "cell_type": "code",
   "execution_count": 5,
   "metadata": {},
   "outputs": [],
   "source": [
    "df_india = pd.read_csv(active_cases_india)\n",
    "df_bengaluru = pd.read_csv(active_cases_bengaluru)\n",
    "karnataka_cases = df_india.loc[df_india['Province/State'] == 'Karnataka']\n",
    "bengaluru_cases = df_bengaluru.loc[df_bengaluru['Province/State'] == 'Bengaluru']"
   ]
  },
  {
   "cell_type": "code",
   "execution_count": 6,
   "metadata": {},
   "outputs": [],
   "source": [
    "train_date_start = datetime.datetime(2020, 3, 23)\n",
    "train_date_end = datetime.datetime(2020, 4, 2)\n",
    "test_date_start = datetime.datetime(2020, 4, 3)\n",
    "test_date_end = datetime.datetime(2020, 4, 9)"
   ]
  },
  {
   "cell_type": "markdown",
   "metadata": {},
   "source": [
    "## Prepare data in the IHME format"
   ]
  },
  {
   "cell_type": "code",
   "execution_count": 7,
   "metadata": {},
   "outputs": [],
   "source": [
    "def fetch_columns(df, start_date, end_date):\n",
    "    \"\"\"\n",
    "    Helper function to fetch the columns from the active cases df\n",
    "    Assumption: df contains only 1 row corresponding to the Province/Region \n",
    "    of interest\n",
    "    \"\"\"\n",
    "    # The code for fetching the dates from the df is not clean\n",
    "    # will clean it up later\n",
    "    active_cases = []\n",
    "    date = start_date\n",
    "    delta = datetime.timedelta(days=1)\n",
    "    while date <= end_date:\n",
    "        num_active = df[date.strftime('%F')].values[0]\n",
    "        active_cases.append(num_active)\n",
    "        date += delta\n",
    "    return active_cases\n",
    "\n",
    "def create_ihme_input(region, active_case_df, train_date_start, train_date_end, \n",
    "                      test_date_start, test_date_end, col_covariate_vars,\n",
    "                      social_distance):\n",
    "    \"\"\"\n",
    "    active_case_df : Active caess for the Province/State under consideration (pd.Dataframe)\n",
    "    train_date_start, train_date_end : Date range for train time frame\n",
    "    test_date_start, test_date_end : Date range for test time frame\n",
    "    \"\"\"\n",
    "    train_active_cases = fetch_columns(active_case_df, train_date_start, train_date_end)\n",
    "    test_active_cases = fetch_columns(active_case_df, test_date_start, test_date_end)\n",
    "    \n",
    "    num_points = len(train_active_cases)\n",
    "    \n",
    "    assert(len(social_distance) == num_points)\n",
    "    # As of now we assume all variates have same variance\n",
    "    assert(len(col_covariate_vars) == num_points)\n",
    "    \n",
    "    num_train_days = (train_date_end - train_date_start).days + 1\n",
    "    \n",
    "    independent_var   = np.arange(0, num_train_days)\n",
    "    measurement_value = train_active_cases\n",
    "    covariate_var     = col_covariate_vars\n",
    "    social_distance   = [1 for i in range(num_train_days)]\n",
    "    data_group        = num_train_days * [region]\n",
    "    data_dict         = {\n",
    "        'independent_var'   : independent_var   ,\n",
    "        'measurement_value' : measurement_value ,\n",
    "        'covariate_var'     : covariate_var     ,\n",
    "        'social_distance'   : social_distance   ,\n",
    "        'region'        : region        ,\n",
    "    }\n",
    "    train_df = pd.DataFrame(data_dict)\n",
    "    return train_df, train_active_cases, test_active_cases"
   ]
  },
  {
   "cell_type": "markdown",
   "metadata": {},
   "source": [
    "# Model assumptions\n",
    "- Independent variable - Day\n",
    "- Measurement val - number of active cases\n",
    "- Social distancing - 1.0  # TODO: Need to understand scale"
   ]
  },
  {
   "cell_type": "code",
   "execution_count": 8,
   "metadata": {},
   "outputs": [],
   "source": [
    "region = 'Karnataka'\n",
    "num_train_days = (train_date_end - train_date_start).days + 1 # Account for the boundary case\n",
    "col_covariate_vars = num_train_days * [1.0]\n",
    "social_distance = num_train_days * [1.0]\n",
    "train_df, train_active_cases, test_active_cases = create_ihme_input(region, karnataka_cases,\n",
    "                                                                   train_date_start, train_date_end,\n",
    "                                                                   test_date_start, test_date_end,\n",
    "                                                                   col_covariate_vars, social_distance)"
   ]
  },
  {
   "cell_type": "code",
   "execution_count": 9,
   "metadata": {},
   "outputs": [],
   "source": [
    "# Functions\n",
    "# identity function\n",
    "def identity_fun(x):\n",
    "    return x\n",
    "# link function used for alpha, p\n",
    "def exp_fun(x):\n",
    "    return np.exp(x)"
   ]
  },
  {
   "cell_type": "code",
   "execution_count": 10,
   "metadata": {},
   "outputs": [],
   "source": [
    "# curve_model\n",
    "num_params   = 3 # alpha, beta and p\n",
    "num_fe       = 3 # fixed effect parameters\n",
    "col_t        = 'independent_var'\n",
    "col_obs      = 'measurement_value'\n",
    "col_covs     = num_params *[['covariate_var']]\n",
    "col_group    = 'region'\n",
    "param_names  = ['alpha', 'beta', 'p']\n",
    "link_fun     = [exp_fun, identity_fun, exp_fun ]\n",
    "var_link_fun = num_fe * [identity_fun ]\n",
    "fun          = erf"
   ]
  },
  {
   "cell_type": "code",
   "execution_count": 11,
   "metadata": {},
   "outputs": [],
   "source": [
    "curve_model = CurveModel(\n",
    "    train_df,\n",
    "    col_t,\n",
    "    col_obs,\n",
    "    col_covs,\n",
    "    col_group,\n",
    "    param_names,\n",
    "    link_fun,\n",
    "    var_link_fun,\n",
    "    fun\n",
    ")"
   ]
  },
  {
   "cell_type": "code",
   "execution_count": 12,
   "metadata": {},
   "outputs": [],
   "source": [
    "# Initialize params\n",
    "fe_init   = np.zeros(num_fe)\n",
    "re_init   = np.zeros(num_fe)\n",
    "fe_bounds = [[-np.inf, np.inf]] * num_fe\n",
    "re_bounds = [[0.0, 0.0]] * num_fe"
   ]
  },
  {
   "cell_type": "code",
   "execution_count": 13,
   "metadata": {},
   "outputs": [],
   "source": [
    "curve_model.fit_params(fe_init, re_init, fe_bounds, re_bounds)\n",
    "params_estimate = curve_model.params\n",
    "fe_estimate     = curve_model.result.x[: num_fe]"
   ]
  },
  {
   "cell_type": "code",
   "execution_count": 14,
   "metadata": {},
   "outputs": [
    {
     "data": {
      "text/plain": [
       "array([[4.49626550e-02],\n",
       "       [2.77965577e+01],\n",
       "       [8.53426374e+02]])"
      ]
     },
     "execution_count": 14,
     "metadata": {},
     "output_type": "execute_result"
    }
   ],
   "source": [
    "params_estimate"
   ]
  },
  {
   "cell_type": "code",
   "execution_count": 15,
   "metadata": {},
   "outputs": [
    {
     "data": {
      "text/plain": [
       "4.0497917150332965"
      ]
     },
     "execution_count": 15,
     "metadata": {},
     "output_type": "execute_result"
    }
   ],
   "source": [
    "curve_model.compute_rmse()"
   ]
  },
  {
   "cell_type": "code",
   "execution_count": 16,
   "metadata": {
    "scrolled": true
   },
   "outputs": [],
   "source": [
    "out = curve_model.predict(\n",
    "    t=np.array(np.arange(11, 18)),\n",
    "    group_name=region\n",
    ")"
   ]
  },
  {
   "cell_type": "code",
   "execution_count": 17,
   "metadata": {},
   "outputs": [
    {
     "data": {
      "text/plain": [
       "[124.0, 128.0, 144.0, 151.0, 175.0, 175.0, 181.0]"
      ]
     },
     "execution_count": 17,
     "metadata": {},
     "output_type": "execute_result"
    }
   ],
   "source": [
    "test_active_cases"
   ]
  },
  {
   "cell_type": "code",
   "execution_count": 18,
   "metadata": {},
   "outputs": [
    {
     "data": {
      "text/plain": [
       "0.07662795444184213"
      ]
     },
     "execution_count": 18,
     "metadata": {},
     "output_type": "execute_result"
    }
   ],
   "source": [
    "np.sqrt(np.mean((np.log(out) - np.log(test_active_cases))**2))"
   ]
  },
  {
   "cell_type": "code",
   "execution_count": 19,
   "metadata": {},
   "outputs": [],
   "source": [
    "def mean_absolute_percentage_error(y_true, y_pred):      \n",
    "    return np.mean(np.abs((y_true - y_pred) / y_true)) * 100"
   ]
  },
  {
   "cell_type": "code",
   "execution_count": 20,
   "metadata": {},
   "outputs": [
    {
     "data": {
      "text/plain": [
       "6.433349488405324"
      ]
     },
     "execution_count": 20,
     "metadata": {},
     "output_type": "execute_result"
    }
   ],
   "source": [
    "mean_absolute_percentage_error(test_active_cases, out)"
   ]
  },
  {
   "cell_type": "code",
   "execution_count": 21,
   "metadata": {},
   "outputs": [],
   "source": [
    "out_train = curve_model.predict(\n",
    "    t=np.array(np.arange(0, 11)),\n",
    "    group_name=region\n",
    ")"
   ]
  },
  {
   "cell_type": "code",
   "execution_count": 22,
   "metadata": {},
   "outputs": [
    {
     "data": {
      "text/plain": [
       "4.875822198011663"
      ]
     },
     "execution_count": 22,
     "metadata": {},
     "output_type": "execute_result"
    }
   ],
   "source": [
    "mean_absolute_percentage_error(train_active_cases, out_train)"
   ]
  },
  {
   "cell_type": "code",
   "execution_count": null,
   "metadata": {},
   "outputs": [],
   "source": []
  }
 ],
 "metadata": {
  "kernelspec": {
   "display_name": "Python [conda env:covid] *",
   "language": "python",
   "name": "conda-env-covid-py"
  },
  "language_info": {
   "codemirror_mode": {
    "name": "ipython",
    "version": 3
   },
   "file_extension": ".py",
   "mimetype": "text/x-python",
   "name": "python",
   "nbconvert_exporter": "python",
   "pygments_lexer": "ipython3",
   "version": "3.6.10"
  }
 },
 "nbformat": 4,
 "nbformat_minor": 4
}
