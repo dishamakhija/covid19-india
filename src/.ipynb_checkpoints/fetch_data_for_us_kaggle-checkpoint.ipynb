{
 "cells": [
  {
   "cell_type": "code",
   "execution_count": 27,
   "metadata": {
    "pycharm": {
     "is_executing": false,
     "name": "#%%import pandas as pd\n"
    }
   },
   "outputs": [],
   "source": [
    "import pandas as pd\n"
   ]
  },
  {
   "cell_type": "code",
   "execution_count": 95,
   "metadata": {
    "pycharm": {
     "name": "#%%\n"
    }
   },
   "outputs": [],
   "source": [
    "filepath = \"../data/covid19-in-usa/us_states_covid19_daily.csv\""
   ]
  },
  {
   "cell_type": "code",
   "execution_count": 96,
   "metadata": {},
   "outputs": [],
   "source": [
    "us_df = pd.read_csv(filepath, sep=',')"
   ]
  },
  {
   "cell_type": "code",
   "execution_count": 97,
   "metadata": {},
   "outputs": [],
   "source": [
    "us_df = us_df.fillna(0)"
   ]
  },
  {
   "cell_type": "code",
   "execution_count": 98,
   "metadata": {},
   "outputs": [],
   "source": [
    "us_df[\"date_formatted\"] = pd.to_datetime(us_df[\"date\"], format=\"%Y%m%d\").apply(lambda x: x.strftime(\"%m/%d/%Y\"))\n"
   ]
  },
  {
   "cell_type": "code",
   "execution_count": 99,
   "metadata": {},
   "outputs": [],
   "source": [
    "us_df[\"cases\"]=us_df[\"positive\"]-us_df[\"recovered\"]"
   ]
  },
  {
   "cell_type": "code",
   "execution_count": 100,
   "metadata": {},
   "outputs": [],
   "source": [
    "us_df[\"cases\"]=us_df[\"cases\"].astype('int32')"
   ]
  },
  {
   "cell_type": "code",
   "execution_count": 101,
   "metadata": {},
   "outputs": [],
   "source": [
    "us_df=us_df[[\"state\", \"date_formatted\",\"cases\" ]]"
   ]
  },
  {
   "cell_type": "code",
   "execution_count": 102,
   "metadata": {},
   "outputs": [],
   "source": [
    "us_df[\"Country/Region\"]=\"US\"\n",
    "us_df[\"Lat\"]=20\n",
    "us_df[\"Long\"]=70\n",
    "us_df.rename(columns={\"state\": \"Province/State\"}, inplace=True)"
   ]
  },
  {
   "cell_type": "code",
   "execution_count": 103,
   "metadata": {},
   "outputs": [],
   "source": [
    "datewise_df = pd.pivot_table(us_df, index=['Province/State','Country/Region', 'Lat', 'Long'],\n",
    "                    columns=['date_formatted'], values=[\"cases\"], aggfunc=sum).fillna(0)\n",
    "datewise_df.columns = [element[1] for element in datewise_df.columns]"
   ]
  },
  {
   "cell_type": "code",
   "execution_count": 104,
   "metadata": {},
   "outputs": [],
   "source": [
    "datewise_df.reset_index(inplace=True)\n"
   ]
  },
  {
   "cell_type": "code",
   "execution_count": 93,
   "metadata": {},
   "outputs": [],
   "source": [
    "datewise_df.to_csv(\"../data/timeseries_covid19_us_nhu_confirmed_cases_04102020.csv\", index=False)\n"
   ]
  }
 ],
 "metadata": {
  "kernelspec": {
   "display_name": "Python 3",
   "language": "python",
   "name": "python3"
  },
  "language_info": {
   "codemirror_mode": {
    "name": "ipython",
    "version": 3
   },
   "file_extension": ".py",
   "mimetype": "text/x-python",
   "name": "python",
   "nbconvert_exporter": "python",
   "pygments_lexer": "ipython3",
   "version": "3.7.3"
  },
  "pycharm": {
   "stem_cell": {
    "cell_type": "raw",
    "metadata": {
     "collapsed": false
    },
    "source": []
   }
  }
 },
 "nbformat": 4,
 "nbformat_minor": 1
}
