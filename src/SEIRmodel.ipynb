{
 "cells": [
  {
   "cell_type": "code",
   "execution_count": 1,
   "metadata": {},
   "outputs": [],
   "source": [
    "from seirsplus.models import *\n",
    "import networkx\n",
    "from datetime import datetime, timedelta\n",
    "import numpy as np\n",
    "import pandas as pd\n",
    "from hyperopt import hp\n",
    "from functools import partial\n",
    "from matplotlib import pyplot as plt\n",
    "from hyperopt import fmin, tpe, space_eval"
   ]
  },
  {
   "cell_type": "markdown",
   "metadata": {},
   "source": [
    "## Common Function Definitions"
   ]
  },
  {
   "cell_type": "code",
   "execution_count": 204,
   "metadata": {},
   "outputs": [],
   "source": [
    "#### Since the model outputs a different format than the CSSEGISandData, we need to align them\n",
    "#### which means - finding the appropriate prediction for the model for a particular date\n",
    "\n",
    "### modelI - Time Series Prediction output by model (model.numI)\n",
    "### modelT - Time Series of the model (model.tseries)\n",
    "### dates  - dates in the true file that we have from CSSEGISandData - datetime object\n",
    "\n",
    "\n",
    "def alignTimeSeries(modelI, modelT, dates):\n",
    "#     datesS = ['3/21/20', '3/22/20', '3/23/20', '3/24/20', '3/25/20']\n",
    "#     dates = []\n",
    "#     for date in datesS:\n",
    "#         dates.append(datetime.strptime(date, \"%m/%d/%y\"))\n",
    "    finalModelPredictions = []\n",
    "    count = 0\n",
    "    day0 = dates[0]\n",
    "    for date in dates:\n",
    "        t = (date-day0).days\n",
    "        #print(t)\n",
    "        while(modelT[count]<=t):\n",
    "            count+=1\n",
    "            if(count == len(modelT)):\n",
    "                print(\"Last prediction reached - Number of predictions less than required\")\n",
    "                finalModelPredictions.append(modelI[count-1])\n",
    "                return finalModelPredictions\n",
    "            \n",
    "        diff1 = t - modelT[count-1]\n",
    "        diff2 = modelT[count] - t\n",
    "        if(diff1<=diff2):\n",
    "            finalModelPredictions.append(modelI[count-1])\n",
    "            count -=1\n",
    "        else:\n",
    "            finalModelPredictions.append(modelI[count])\n",
    "    \n",
    "    finalModelPredictions_df = pd.DataFrame()\n",
    "    finalModelPredictions_df['date'] = dates \n",
    "    finalModelPredictions_df['predicted_count'] = finalModelPredictions\n",
    "      \n",
    "    return finalModelPredictions_df\n",
    "\n",
    "def mean_absolute_percentage_error(y_true, y_pred): \n",
    "    return np.mean(np.abs((y_true - y_pred) / y_true)) * 100\n",
    "\n",
    "def populate_missing_days(df,date_col,min_date,max_date):    \n",
    "    r = pd.date_range(start=min_date, end=max_date) \n",
    "    df = df.set_index(date_col).reindex(r).fillna(0.0).rename_axis(date_col).reset_index()\n",
    "    return df\n",
    "\n",
    "def reciprocal_list(input_list):\n",
    "    return np.reciprocal(list(map(input_list,float)))        \n",
    "\n",
    "def predict(region_row, infected_col_name, params,n_days, observed_time_series_df, model_type='deterministic'):\n",
    "    if(model_type=='deterministic'):\n",
    "        \n",
    "        init_beta = params['transmission_rate'][0]\n",
    "        init_sigma = 1/params['incubation_period'][0]\n",
    "        init_gamma = 1/params['infectious_period'][0]\n",
    "        initN = region_row['population']\n",
    "        initI = region_row[infected_col_name]\n",
    "        initE = region_row[infected_col_name] * 40\n",
    "        initR = params['recovered_count']\n",
    "        \n",
    "        model = SEIRSModel(beta=init_beta, sigma=init_sigma, gamma=init_gamma, initN=initN, initI=initI)\n",
    "        \n",
    "        \n",
    "        \n",
    "        if(len(params['time_stamps'])>1):\n",
    "            checkpoints = {\n",
    "                't' : params['time_stamps'],\n",
    "                'sigma' : reciprocal_list(params['incubation_period']), \n",
    "                'gamma' : reciprocal_list(params['infectious_period']),\n",
    "                'beta' : params['transmission_rate']\n",
    "            }\n",
    "            \n",
    "            model.run(T=n_days, checkpoints=checkpoints,verbose=True)            \n",
    "        else:\n",
    "            model.run(T=n_days,verbose=True)\n",
    "        \n",
    "    return model.tseries ,model.numI\n"
   ]
  },
  {
   "cell_type": "code",
   "execution_count": 34,
   "metadata": {},
   "outputs": [
    {
     "name": "stdout",
     "output_type": "stream",
     "text": [
      "-4.331407580413201                                   \n",
      "4.807741665544606                                    \n",
      "-9.139149245957807                                   \n",
      "9.370781152632766                                    \n",
      "9.68490464801                                                                  \n",
      "-0.3141234953772347                                                            \n",
      "2.40538766166277                                                               \n",
      "2.2932828524697157                                                             \n",
      "0.11210480919305432                                                            \n",
      "9.134094376732872                                                              \n",
      "8.264175312927375                                                              \n",
      "0.8699190638054972                                                             \n",
      "0.33587095427620284                                                            \n",
      "7.2910204142834525                                                             \n",
      "-6.95514946000725                                                              \n",
      "100%|██████████| 5/5 [00:00<00:00, 88.91trial/s, best loss: -9.139149245957807]\n",
      "{'a': -4.331407580413201, 'b': 4.807741665544606}\n"
     ]
    }
   ],
   "source": [
    "#Trying out hyperOpt to check how it works - ignore this\n",
    "\n",
    "def objective(x):\n",
    "    a = x['a'] \n",
    "    b = x['b']\n",
    "    print(a, b, a-b)\n",
    "    return a - b\n",
    "\n",
    "# define a search space\n",
    "from hyperopt import hp\n",
    "space = {'a': hp.uniform('a', -10, 10), \n",
    "         'b': hp.uniform('b', 0, 10)}\n",
    "\n",
    "# minimize the objective over the space\n",
    "best = fmin(objective, space, algo=tpe.suggest, max_evals=5)\n",
    "print(space_eval(space, best))"
   ]
  },
  {
   "cell_type": "markdown",
   "metadata": {},
   "source": [
    "## Top level function"
   ]
  },
  {
   "cell_type": "code",
   "execution_count": 205,
   "metadata": {},
   "outputs": [],
   "source": [
    "def run(input_file, n_days, region_col, plot = False,   compute_mape=False):\n",
    "    region_timeseries_df = pd.read_csv(input_file)\n",
    "    observed_time_series_df = pd.read_csv(observed_ts_counts_file)\n",
    "    observed_time_series_df['date'] = pd.to_datetime(observed_time_series_df['reported_date'], infer_datetime_format=True)\n",
    "    all_regions_predictions = []\n",
    "    \n",
    "    dates_str = []\n",
    "    dates_dt = []\n",
    "    for i in range(n_days):\n",
    "        date = (day0 + timedelta(days=i+1))\n",
    "        #print(date.strftime(format='%Y-%m-%d %M:%H:%S').strip())\n",
    "        dates_dt.append(date)\n",
    "        dates_str.append(date.strftime(format='%Y-%m-%d %M:%H:%S').strip())\n",
    "        #region_timeseries_df.insert(len(region_timeseries_df.shape[1]), str(date) , np.zeros(region_timeseries_df.shape[0]))\n",
    "    \n",
    "    #print(region_timeseries_df.shape)\n",
    "    for index, row in region_timeseries_df.iterrows():\n",
    "        #print(row.dtype)\n",
    "        params['recovered_count'] = row['current_recovered_count']\n",
    "        time, predicted = predict(row, day0.strftime('%Y-%m-%d %M:%H:%S'), params, n_days, observed_time_series_df, model_type)\n",
    "        predicted_ts = alignTimeSeries(predicted, time, dates_dt)\n",
    "        predicted_ts_transpose  = predicted_ts.transpose()\n",
    "        predicted_ts_transpose.columns = predicted_ts_transpose.iloc[0].apply(lambda x: x.strftime('%Y-%m-%d %M:%H:%S').strip())\n",
    "        predicted_ts_transpose = predicted_ts_transpose.drop(predicted_ts_transpose.index[0])\n",
    "        \n",
    "        orig_row = region_timeseries_df.iloc[index,:].to_frame().T\n",
    "\n",
    "        new_row = pd.concat([orig_row, predicted_ts_transpose.set_index(orig_row.index)], axis=1)\n",
    "        \n",
    "        new_row = pd.concat([orig_row, predicted_ts_transpose.set_index(orig_row.index)], axis=1)\n",
    "        \n",
    "        if(compute_mape):\n",
    "            \n",
    "            observed_predicted_df = observed_time_series_df.merge(predicted_ts,left_on='date',right_on='date')\n",
    "            mape_score = mean_absolute_percentage_error(observed_predicted_df['active_cases_count'],observed_predicted_df['predicted_count'])            \n",
    "            new_row['MAPE'] = mape_score\n",
    "            \n",
    "        if(plot):\n",
    "            prediction_vec = new_row.loc[:,dates_str].transpose()\n",
    "            \n",
    "            dim = len(dates_str)\n",
    "            \n",
    "            fig, ax = plt.subplots(figsize=(15,5))\n",
    "            ax.plot(dates_dt, prediction_vec, color = '#701805', label = \"SEIR\")\n",
    "            \n",
    "            plt.xlabel(\"Time\")\n",
    "            plt.ylabel(\"SEIR Projections\")\n",
    "            plt.title(row[region_col])\n",
    "            ax.legend()\n",
    "            outfile = \"plots/\" + str(region_col) + \"_SEIR_projections.png\"\n",
    "            plt.savefig(outfile)\n",
    "            plt.show()\n",
    "            \n",
    "    all_regions_predictions.append(new_row)           \n",
    "    #print(predicted_ts.transpose)\n",
    "    return all_regions_predictions  "
   ]
  },
  {
   "cell_type": "code",
   "execution_count": 215,
   "metadata": {},
   "outputs": [],
   "source": [
    "region = 'country'\n",
    "input_file = \"{}\".format(region)+'level_timeseries.csv'\n",
    "output_file = \"{}\".format(region)+'wise_predicted_timeseries.csv'\n",
    "n_days = 4\n",
    "params = {\n",
    "    'time_stamps' : [1],\n",
    "    'transmission_rate' : [.2],\n",
    "    'infectious_period' : [14],\n",
    "    'incubation_period' : [4]\n",
    "}\n",
    "\n",
    "search_space = {'beta': hp.uniform('beta', 0.1, 0.4), \n",
    "         'sigma': hp.uniform('sigma', 0.14, 0.5),\n",
    "          'gamma': hp.uniform('gamma', 0.06, 0.14) }\n",
    "\n",
    "model_type = 'deterministic'\n",
    "\n",
    "day0 = datetime.strptime('2020-03-24',\"%Y-%m-%d\")\n",
    "observed_ts_counts_file = \"{}\".format(region) + 'wise_observed_counts.csv'\n"
   ]
  },
  {
   "cell_type": "code",
   "execution_count": 216,
   "metadata": {
    "scrolled": false
   },
   "outputs": [
    {
     "name": "stdout",
     "output_type": "stream",
     "text": [
      "t = 399.90\n",
      "\t S   = 100461608.76055984\n",
      "\t E   = 1069.295446326416\n",
      "\t I   = 14060.418142888188\n",
      "\t D_E = 0.0\n",
      "\t D_I = 0.0\n",
      "\t R   = 1238523261.5258505\n",
      "\t F   = 0.0\n"
     ]
    },
    {
     "data": {
      "image/png": "[encoded data removed]",
      "text/plain": [
       "<Figure size 1080x360 with 1 Axes>"
      ]
     },
     "metadata": {
      "needs_background": "light"
     },
     "output_type": "display_data"
    }
   ],
   "source": [
    "predtemp = run(input_file,400,region,True,True)"
   ]
  },
  {
   "cell_type": "code",
   "execution_count": null,
   "metadata": {},
   "outputs": [],
   "source": []
  }
 ],
 "metadata": {
  "kernelspec": {
   "display_name": "Python 3",
   "language": "python",
   "name": "python3"
  },
  "language_info": {
   "codemirror_mode": {
    "name": "ipython",
    "version": 3
   },
   "file_extension": ".py",
   "mimetype": "text/x-python",
   "name": "python",
   "nbconvert_exporter": "python",
   "pygments_lexer": "ipython3",
   "version": "3.7.3"
  }
 },
 "nbformat": 4,
 "nbformat_minor": 2
}
