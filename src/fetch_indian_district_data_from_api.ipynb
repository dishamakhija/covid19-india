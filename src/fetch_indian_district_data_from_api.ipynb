{
 "cells": [
  {
   "cell_type": "code",
   "execution_count": 1,
   "metadata": {},
   "outputs": [],
   "source": [
    "import json\n",
    "import random\n",
    "from pathlib import Path\n",
    "import collections\n",
    "\n",
    "import pandas as pd\n",
    "import numpy as np\n",
    "\n",
    "%load_ext autoreload\n",
    "%autoreload 2\n",
    "Path.ls = lambda x: list(x.iterdir())\n",
    "# from urllib.parse import quote_plus"
   ]
  },
  {
   "cell_type": "code",
   "execution_count": 2,
   "metadata": {},
   "outputs": [],
   "source": [
    "#Select granularity to get the data\n",
    "REGION_FIELDNAME = 'detecteddistrict' #detecteddistrict - for district; detectedcity - for city\n",
    "\n",
    "#OUTPUT filename region specifier\n",
    "REGION_OUTPUT_FILE_REG_SPECCIFIER='district'\n",
    "\n",
    "#what data to extract\n",
    "DATA_TYPE = 'confirmed' #'confirmed' - default; 'Hospitalized'; 'Recovered'; 'Deceased'"
   ]
  },
  {
   "cell_type": "code",
   "execution_count": 3,
   "metadata": {},
   "outputs": [
    {
     "name": "stdout",
     "output_type": "stream",
     "text": [
      "d1 = 20200420\n"
     ]
    }
   ],
   "source": [
    "from datetime import date\n",
    "\n",
    "today = date.today()\n",
    "\n",
    "# dd/mm/YY\n",
    "current_date = today.strftime(\"%Y%m%d\")\n",
    "print(\"d1 =\", current_date)"
   ]
  },
  {
   "cell_type": "code",
   "execution_count": 4,
   "metadata": {},
   "outputs": [],
   "source": [
    "import urllib.request, json\n",
    "from urllib.error import HTTPError\n",
    "\n",
    "# def get_raw_data(raw_web_url=\"https://api.covid19india.org/raw_data.json\"):\n",
    "#     with urllib.request.urlopen(raw_web_url) as url:\n",
    "#         data_dict = json.loads(url.read().decode())\n",
    "#         return data_dict[\"raw_data\"]\n",
    "\n",
    "\n",
    "def get_stats_history(stats_history_url=\"https://api.rootnet.in/covid19-in/stats/history\"):\n",
    "    try:\n",
    "        with urllib.request.urlopen(stats_history_url) as url:\n",
    "            data_dict = json.loads(url.read().decode())\n",
    "            return data_dict\n",
    "    except HTTPError as e:\n",
    "        print(f\"Using local backup of {stats_history_url}\")\n",
    "        with open(\"history.json\") as f:\n",
    "            return json.loads(f.read())\n",
    "\n",
    "def get_stats_history_district(stats_history_url=\"https://api.covid19india.org/raw_data.json\"):\n",
    "    try:\n",
    "        with urllib.request.urlopen(stats_history_url) as url:\n",
    "            data_dict = json.loads(url.read().decode())\n",
    "            return data_dict\n",
    "    except HTTPError as e:\n",
    "        print(f\"Using local backup of {stats_history_url}\")\n",
    "        with open(\"history.json\") as f:\n",
    "            return json.loads(f.read())\n",
    "        \n",
    "# def get_state_data(\n",
    "#     case_count_url=\"https://api.covid19india.org/state_district_wise.json\",\n",
    "# ):\n",
    "#     with urllib.request.urlopen(case_count_url) as url:\n",
    "#         data_dict = json.loads(url.read().decode())\n",
    "#         return data_dict\n",
    "\n",
    "\n",
    "# def get_case_count(data, state=\"Karnataka\"):\n",
    "#     df = pd.DataFrame(data[state][\"districtData\"])\n",
    "#     df = df.transpose()\n",
    "#     df.reset_index(inplace=True)\n",
    "#     df.rename(columns={\"confirmed\": \"CaseCount\", \"index\": \"District\"}, inplace=True)\n",
    "#     df.drop(columns=[\"lastupdatedtime\"], inplace=True)\n",
    "#     return df"
   ]
  },
  {
   "cell_type": "code",
   "execution_count": 5,
   "metadata": {},
   "outputs": [],
   "source": [
    "from typing import List, Dict\n",
    "#stats:List = get_stats_history()[\"data\"]\n",
    "stats:List = get_stats_history_district()[\"raw_data\"]"
   ]
  },
  {
   "cell_type": "code",
   "execution_count": 6,
   "metadata": {},
   "outputs": [],
   "source": [
    "if DATA_TYPE == 'confirmed':\n",
    "    district_df = pd.DataFrame([(i[REGION_FIELDNAME],i['dateannounced']) for i in stats])\n",
    "else:\n",
    "    district_df = pd.DataFrame([(i[REGION_FIELDNAME],i['statuschangedate']) for i in stats if i['currentstatus']==DATA_TYPE])\n",
    "# column names in JHU format\n",
    "REGION = 'Province/State'\n",
    "district_df.columns = [REGION,'date']"
   ]
  },
  {
   "cell_type": "code",
   "execution_count": 7,
   "metadata": {},
   "outputs": [
    {
     "data": {
      "text/plain": [
       "Province/State    100\n",
       "date              100\n",
       "dtype: int64"
      ]
     },
     "execution_count": 7,
     "metadata": {},
     "output_type": "execute_result"
    }
   ],
   "source": [
    "district_df[district_df['Province/State']=='Bengaluru'].count()"
   ]
  },
  {
   "cell_type": "code",
   "execution_count": 8,
   "metadata": {},
   "outputs": [],
   "source": [
    "import pandas as pd\n",
    "from datetime import datetime\n",
    "date_list = pd.date_range(start=\"2020-01-22\",end=datetime.today()).strftime(\"%d/%m/%Y\")"
   ]
  },
  {
   "cell_type": "code",
   "execution_count": 9,
   "metadata": {},
   "outputs": [],
   "source": [
    "# district_df_pivot = pd.pivot_table(district_df,values=REGION,index=[REGION],columns=['date'],aggfunc=np.count_nonzero,fill_value=0)\n",
    "district_df_pivot = pd.pivot_table(district_df,values=REGION,index=[REGION],columns=['date'],aggfunc={REGION: np.count_nonzero},fill_value=0)\n",
    "district_df_pivot_dated = district_df_pivot.reindex(date_list, axis=1).fillna(0)\n",
    "district_df_final = district_df_pivot_dated.cumsum(axis=1)"
   ]
  },
  {
   "cell_type": "markdown",
   "metadata": {},
   "source": [
    "## Transform to the JHU data format\n",
    "See this [Github link to data](https://github.com/CSSEGISandData/COVID-19/blob/master/csse_covid_19_data/csse_covid_19_time_series/time_series_covid19_confirmed_global.csv) for reference"
   ]
  },
  {
   "cell_type": "code",
   "execution_count": 10,
   "metadata": {},
   "outputs": [],
   "source": [
    "district_df_final.insert(0, \"Country/Region\", \"India\")\n",
    "district_df_final.insert(1, \"Lat\", 20)\n",
    "district_df_final.insert(2, \"Long\", 70)"
   ]
  },
  {
   "cell_type": "code",
   "execution_count": 11,
   "metadata": {},
   "outputs": [],
   "source": [
    "for date in date_list:\n",
    "    datenew = datetime.strptime(date, \"%d/%m/%Y\")\n",
    "    datenew = datetime.strftime(datenew, \"%-m/%-d/%y\")\n",
    "    district_df_final = district_df_final.rename(columns = {date:datenew})"
   ]
  },
  {
   "cell_type": "code",
   "execution_count": 12,
   "metadata": {},
   "outputs": [
    {
     "data": {
      "text/html": [
       "<div>\n",
       "<style scoped>\n",
       "    .dataframe tbody tr th:only-of-type {\n",
       "        vertical-align: middle;\n",
       "    }\n",
       "\n",
       "    .dataframe tbody tr th {\n",
       "        vertical-align: top;\n",
       "    }\n",
       "\n",
       "    .dataframe thead th {\n",
       "        text-align: right;\n",
       "    }\n",
       "</style>\n",
       "<table border=\"1\" class=\"dataframe\">\n",
       "  <thead>\n",
       "    <tr style=\"text-align: right;\">\n",
       "      <th></th>\n",
       "      <th>Country/Region</th>\n",
       "      <th>Lat</th>\n",
       "      <th>Long</th>\n",
       "      <th>1/22/20</th>\n",
       "      <th>1/23/20</th>\n",
       "      <th>1/24/20</th>\n",
       "      <th>1/25/20</th>\n",
       "      <th>1/26/20</th>\n",
       "      <th>1/27/20</th>\n",
       "      <th>1/28/20</th>\n",
       "      <th>...</th>\n",
       "      <th>4/11/20</th>\n",
       "      <th>4/12/20</th>\n",
       "      <th>4/13/20</th>\n",
       "      <th>4/14/20</th>\n",
       "      <th>4/15/20</th>\n",
       "      <th>4/16/20</th>\n",
       "      <th>4/17/20</th>\n",
       "      <th>4/18/20</th>\n",
       "      <th>4/19/20</th>\n",
       "      <th>4/20/20</th>\n",
       "    </tr>\n",
       "    <tr>\n",
       "      <th>Province/State</th>\n",
       "      <th></th>\n",
       "      <th></th>\n",
       "      <th></th>\n",
       "      <th></th>\n",
       "      <th></th>\n",
       "      <th></th>\n",
       "      <th></th>\n",
       "      <th></th>\n",
       "      <th></th>\n",
       "      <th></th>\n",
       "      <th></th>\n",
       "      <th></th>\n",
       "      <th></th>\n",
       "      <th></th>\n",
       "      <th></th>\n",
       "      <th></th>\n",
       "      <th></th>\n",
       "      <th></th>\n",
       "      <th></th>\n",
       "      <th></th>\n",
       "      <th></th>\n",
       "    </tr>\n",
       "  </thead>\n",
       "  <tbody>\n",
       "    <tr>\n",
       "      <th></th>\n",
       "      <td>India</td>\n",
       "      <td>20</td>\n",
       "      <td>70</td>\n",
       "      <td>0.0</td>\n",
       "      <td>0.0</td>\n",
       "      <td>0.0</td>\n",
       "      <td>0.0</td>\n",
       "      <td>0.0</td>\n",
       "      <td>0.0</td>\n",
       "      <td>0.0</td>\n",
       "      <td>...</td>\n",
       "      <td>0.0</td>\n",
       "      <td>0.0</td>\n",
       "      <td>0.0</td>\n",
       "      <td>0.0</td>\n",
       "      <td>0.0</td>\n",
       "      <td>0.0</td>\n",
       "      <td>0.0</td>\n",
       "      <td>0.0</td>\n",
       "      <td>0.0</td>\n",
       "      <td>0.0</td>\n",
       "    </tr>\n",
       "    <tr>\n",
       "      <th>Adilabad</th>\n",
       "      <td>India</td>\n",
       "      <td>20</td>\n",
       "      <td>70</td>\n",
       "      <td>0.0</td>\n",
       "      <td>0.0</td>\n",
       "      <td>0.0</td>\n",
       "      <td>0.0</td>\n",
       "      <td>0.0</td>\n",
       "      <td>0.0</td>\n",
       "      <td>0.0</td>\n",
       "      <td>...</td>\n",
       "      <td>11.0</td>\n",
       "      <td>11.0</td>\n",
       "      <td>11.0</td>\n",
       "      <td>11.0</td>\n",
       "      <td>11.0</td>\n",
       "      <td>11.0</td>\n",
       "      <td>11.0</td>\n",
       "      <td>11.0</td>\n",
       "      <td>16.0</td>\n",
       "      <td>16.0</td>\n",
       "    </tr>\n",
       "    <tr>\n",
       "      <th>Agar Malwa</th>\n",
       "      <td>India</td>\n",
       "      <td>20</td>\n",
       "      <td>70</td>\n",
       "      <td>0.0</td>\n",
       "      <td>0.0</td>\n",
       "      <td>0.0</td>\n",
       "      <td>0.0</td>\n",
       "      <td>0.0</td>\n",
       "      <td>0.0</td>\n",
       "      <td>0.0</td>\n",
       "      <td>...</td>\n",
       "      <td>0.0</td>\n",
       "      <td>0.0</td>\n",
       "      <td>0.0</td>\n",
       "      <td>0.0</td>\n",
       "      <td>3.0</td>\n",
       "      <td>4.0</td>\n",
       "      <td>4.0</td>\n",
       "      <td>4.0</td>\n",
       "      <td>4.0</td>\n",
       "      <td>4.0</td>\n",
       "    </tr>\n",
       "    <tr>\n",
       "      <th>Agra</th>\n",
       "      <td>India</td>\n",
       "      <td>20</td>\n",
       "      <td>70</td>\n",
       "      <td>0.0</td>\n",
       "      <td>0.0</td>\n",
       "      <td>0.0</td>\n",
       "      <td>0.0</td>\n",
       "      <td>0.0</td>\n",
       "      <td>0.0</td>\n",
       "      <td>0.0</td>\n",
       "      <td>...</td>\n",
       "      <td>92.0</td>\n",
       "      <td>104.0</td>\n",
       "      <td>139.0</td>\n",
       "      <td>143.0</td>\n",
       "      <td>158.0</td>\n",
       "      <td>167.0</td>\n",
       "      <td>172.0</td>\n",
       "      <td>199.0</td>\n",
       "      <td>242.0</td>\n",
       "      <td>242.0</td>\n",
       "    </tr>\n",
       "    <tr>\n",
       "      <th>Ahmadabad</th>\n",
       "      <td>India</td>\n",
       "      <td>20</td>\n",
       "      <td>70</td>\n",
       "      <td>0.0</td>\n",
       "      <td>0.0</td>\n",
       "      <td>0.0</td>\n",
       "      <td>0.0</td>\n",
       "      <td>0.0</td>\n",
       "      <td>0.0</td>\n",
       "      <td>0.0</td>\n",
       "      <td>...</td>\n",
       "      <td>243.0</td>\n",
       "      <td>282.0</td>\n",
       "      <td>320.0</td>\n",
       "      <td>373.0</td>\n",
       "      <td>450.0</td>\n",
       "      <td>545.0</td>\n",
       "      <td>623.0</td>\n",
       "      <td>862.0</td>\n",
       "      <td>1101.0</td>\n",
       "      <td>1192.0</td>\n",
       "    </tr>\n",
       "  </tbody>\n",
       "</table>\n",
       "<p>5 rows × 93 columns</p>\n",
       "</div>"
      ],
      "text/plain": [
       "               Country/Region  Lat  Long  1/22/20  1/23/20  1/24/20  1/25/20  \\\n",
       "Province/State                                                                 \n",
       "                        India   20    70      0.0      0.0      0.0      0.0   \n",
       "Adilabad                India   20    70      0.0      0.0      0.0      0.0   \n",
       "Agar Malwa              India   20    70      0.0      0.0      0.0      0.0   \n",
       "Agra                    India   20    70      0.0      0.0      0.0      0.0   \n",
       "Ahmadabad               India   20    70      0.0      0.0      0.0      0.0   \n",
       "\n",
       "                1/26/20  1/27/20  1/28/20   ...     4/11/20  4/12/20  4/13/20  \\\n",
       "Province/State                              ...                                 \n",
       "                    0.0      0.0      0.0   ...         0.0      0.0      0.0   \n",
       "Adilabad            0.0      0.0      0.0   ...        11.0     11.0     11.0   \n",
       "Agar Malwa          0.0      0.0      0.0   ...         0.0      0.0      0.0   \n",
       "Agra                0.0      0.0      0.0   ...        92.0    104.0    139.0   \n",
       "Ahmadabad           0.0      0.0      0.0   ...       243.0    282.0    320.0   \n",
       "\n",
       "                4/14/20  4/15/20  4/16/20  4/17/20  4/18/20  4/19/20  4/20/20  \n",
       "Province/State                                                                 \n",
       "                    0.0      0.0      0.0      0.0      0.0      0.0      0.0  \n",
       "Adilabad           11.0     11.0     11.0     11.0     11.0     16.0     16.0  \n",
       "Agar Malwa          0.0      3.0      4.0      4.0      4.0      4.0      4.0  \n",
       "Agra              143.0    158.0    167.0    172.0    199.0    242.0    242.0  \n",
       "Ahmadabad         373.0    450.0    545.0    623.0    862.0   1101.0   1192.0  \n",
       "\n",
       "[5 rows x 93 columns]"
      ]
     },
     "execution_count": 12,
     "metadata": {},
     "output_type": "execute_result"
    }
   ],
   "source": [
    "district_df_final.head()"
   ]
  },
  {
   "cell_type": "code",
   "execution_count": 13,
   "metadata": {},
   "outputs": [],
   "source": [
    "fname = f'../data/time_series_covid19_{DATA_TYPE}_India_{REGION_OUTPUT_FILE_REG_SPECCIFIER}_{current_date}.csv'\n",
    "district_df_final.to_csv(fname, header=True)"
   ]
  },
  {
   "cell_type": "code",
   "execution_count": 14,
   "metadata": {},
   "outputs": [],
   "source": [
    "# !cat $fname"
   ]
  },
  {
   "cell_type": "code",
   "execution_count": 15,
   "metadata": {},
   "outputs": [
    {
     "data": {
      "text/plain": [
       "'../data/time_series_covid19_confirmed_India_district_20200420.csv'"
      ]
     },
     "execution_count": 15,
     "metadata": {},
     "output_type": "execute_result"
    }
   ],
   "source": [
    "fname"
   ]
  },
  {
   "cell_type": "code",
   "execution_count": 16,
   "metadata": {},
   "outputs": [
    {
     "data": {
      "text/html": [
       "<div>\n",
       "<style scoped>\n",
       "    .dataframe tbody tr th:only-of-type {\n",
       "        vertical-align: middle;\n",
       "    }\n",
       "\n",
       "    .dataframe tbody tr th {\n",
       "        vertical-align: top;\n",
       "    }\n",
       "\n",
       "    .dataframe thead th {\n",
       "        text-align: right;\n",
       "    }\n",
       "</style>\n",
       "<table border=\"1\" class=\"dataframe\">\n",
       "  <thead>\n",
       "    <tr style=\"text-align: right;\">\n",
       "      <th></th>\n",
       "      <th>Province/State</th>\n",
       "      <th>Country/Region</th>\n",
       "      <th>Lat</th>\n",
       "      <th>Long</th>\n",
       "      <th>1/22/20</th>\n",
       "      <th>1/23/20</th>\n",
       "      <th>1/24/20</th>\n",
       "      <th>1/25/20</th>\n",
       "      <th>1/26/20</th>\n",
       "      <th>1/27/20</th>\n",
       "      <th>...</th>\n",
       "      <th>4/11/20</th>\n",
       "      <th>4/12/20</th>\n",
       "      <th>4/13/20</th>\n",
       "      <th>4/14/20</th>\n",
       "      <th>4/15/20</th>\n",
       "      <th>4/16/20</th>\n",
       "      <th>4/17/20</th>\n",
       "      <th>4/18/20</th>\n",
       "      <th>4/19/20</th>\n",
       "      <th>4/20/20</th>\n",
       "    </tr>\n",
       "  </thead>\n",
       "  <tbody>\n",
       "    <tr>\n",
       "      <th>43</th>\n",
       "      <td>Bengaluru</td>\n",
       "      <td>India</td>\n",
       "      <td>20</td>\n",
       "      <td>70</td>\n",
       "      <td>0.0</td>\n",
       "      <td>0.0</td>\n",
       "      <td>0.0</td>\n",
       "      <td>0.0</td>\n",
       "      <td>0.0</td>\n",
       "      <td>0.0</td>\n",
       "      <td>...</td>\n",
       "      <td>73.0</td>\n",
       "      <td>76.0</td>\n",
       "      <td>77.0</td>\n",
       "      <td>80.0</td>\n",
       "      <td>82.0</td>\n",
       "      <td>87.0</td>\n",
       "      <td>97.0</td>\n",
       "      <td>100.0</td>\n",
       "      <td>100.0</td>\n",
       "      <td>100.0</td>\n",
       "    </tr>\n",
       "  </tbody>\n",
       "</table>\n",
       "<p>1 rows × 94 columns</p>\n",
       "</div>"
      ],
      "text/plain": [
       "   Province/State Country/Region  Lat  Long  1/22/20  1/23/20  1/24/20  \\\n",
       "43      Bengaluru          India   20    70      0.0      0.0      0.0   \n",
       "\n",
       "    1/25/20  1/26/20  1/27/20   ...     4/11/20  4/12/20  4/13/20  4/14/20  \\\n",
       "43      0.0      0.0      0.0   ...        73.0     76.0     77.0     80.0   \n",
       "\n",
       "    4/15/20  4/16/20  4/17/20  4/18/20  4/19/20  4/20/20  \n",
       "43     82.0     87.0     97.0    100.0    100.0    100.0  \n",
       "\n",
       "[1 rows x 94 columns]"
      ]
     },
     "execution_count": 16,
     "metadata": {},
     "output_type": "execute_result"
    }
   ],
   "source": [
    "temp = district_df_final.reset_index()\n",
    "temp[temp[REGION]=='Bengaluru']"
   ]
  }
 ],
 "metadata": {
  "kernelspec": {
   "display_name": "Python 3",
   "language": "python",
   "name": "python3"
  },
  "language_info": {
   "codemirror_mode": {
    "name": "ipython",
    "version": 3
   },
   "file_extension": ".py",
   "mimetype": "text/x-python",
   "name": "python",
   "nbconvert_exporter": "python",
   "pygments_lexer": "ipython3",
   "version": "3.6.5"
  }
 },
 "nbformat": 4,
 "nbformat_minor": 2
}
