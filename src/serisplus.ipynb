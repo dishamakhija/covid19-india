{
 "cells": [
  {
   "cell_type": "code",
   "execution_count": 1,
   "metadata": {},
   "outputs": [],
   "source": [
    "from seirsplus.models import *\n",
    "import networkx\n",
    "from datetime import datetime\n",
    "import numpy as np\n",
    "from hyperopt import hp\n",
    "from functools import partial"
   ]
  },
  {
   "cell_type": "code",
   "execution_count": 2,
   "metadata": {},
   "outputs": [],
   "source": [
    "model = SEIRSModel(beta=0.155, sigma=1/5.2, gamma=1/12.39, initN=100000, initI=100)"
   ]
  },
  {
   "cell_type": "code",
   "execution_count": 3,
   "metadata": {
    "scrolled": true
   },
   "outputs": [
    {
     "name": "stdout",
     "output_type": "stream",
     "text": [
      "t = 0.06\n",
      "t = 10.01\n",
      "[Checkpoint: Updating parameters]\n",
      "t = 20.55\n",
      "t = 30.15\n",
      "t = 40.00\n",
      "t = 50.09\n",
      "t = 60.06\n",
      "t = 70.01\n",
      "t = 80.00\n",
      "t = 90.00\n",
      "[Checkpoint: Updating parameters]\n",
      "t = 100.00\n",
      "t = 110.00\n",
      "t = 120.00\n",
      "t = 130.00\n",
      "t = 140.00\n",
      "t = 150.01\n",
      "t = 160.00\n",
      "t = 170.04\n",
      "t = 180.00\n",
      "t = 190.04\n",
      "t = 200.04\n",
      "t = 210.05\n",
      "t = 220.09\n",
      "t = 230.31\n",
      "t = 240.12\n",
      "t = 250.10\n",
      "t = 260.06\n",
      "t = 270.22\n",
      "t = 280.72\n",
      "t = 290.22\n"
     ]
    },
    {
     "data": {
      "text/plain": [
       "<Figure size 1200x800 with 1 Axes>"
      ]
     },
     "metadata": {},
     "output_type": "display_data"
    }
   ],
   "source": [
    "numNodes = 10000\n",
    "baseGraph    = networkx.barabasi_albert_graph(n=numNodes, m=9)\n",
    "G_normal     = custom_exponential_graph(baseGraph, scale=100)\n",
    "# Social distancing interactions:\n",
    "G_distancing = custom_exponential_graph(baseGraph, scale=10)\n",
    "# Quarantine interactions:\n",
    "G_quarantine = custom_exponential_graph(baseGraph, scale=5)\n",
    "\n",
    "model = SEIRSNetworkModel(G=G_normal, beta=0.155, sigma=1/5.2, gamma=1/12.39, mu_I=0.0004, p=0.5,\n",
    "                          Q=G_quarantine, beta_D=0.155, sigma_D=1/5.2, gamma_D=1/12.39, mu_D=0.0004,\n",
    "                          theta_E=0.02, theta_I=0.02, phi_E=0.2, phi_I=0.2, psi_E=1.0, psi_I=1.0, q=0.5,\n",
    "                          initI=10)\n",
    "\n",
    "checkpoints = {'t': [20, 100], 'G': [G_distancing, G_normal], 'p': [0.1, 0.5], 'theta_E': [0.02, 0.02], 'theta_I': [0.02, 0.02], 'phi_E':   [0.2, 0.2], 'phi_I':   [0.2, 0.2]}\n",
    "\n",
    "model.run(T=300, checkpoints=checkpoints)\n",
    "\n",
    "model.figure_infections()"
   ]
  },
  {
   "cell_type": "code",
   "execution_count": 4,
   "metadata": {},
   "outputs": [],
   "source": [
    "S = model.numS\n",
    "t = model.tseries \n",
    "I = model.numI"
   ]
  },
  {
   "cell_type": "code",
   "execution_count": 5,
   "metadata": {},
   "outputs": [
    {
     "data": {
      "text/plain": [
       "(23617, 23617)"
      ]
     },
     "execution_count": 5,
     "metadata": {},
     "output_type": "execute_result"
    }
   ],
   "source": [
    "len(S), len(t)"
   ]
  },
  {
   "cell_type": "markdown",
   "metadata": {},
   "source": [
    "## Tune Hyperparameters"
   ]
  },
  {
   "cell_type": "code",
   "execution_count": 113,
   "metadata": {},
   "outputs": [],
   "source": [
    "#### Since the model outputs a different format than the CSSEGISandData, we need to align them\n",
    "#### which means - finding the appropriate prediction for the model for a particular date\n",
    "\n",
    "### modelI - Time Series Prediction output by model (model.numI)\n",
    "### modelT - Time Series of the model (model.tseries)\n",
    "### dates  - dates in the true file that we have from CSSEGISandData - datetime object\n",
    "\n",
    "\n",
    "def alignTimeSeries(modelI, modelT, dates):\n",
    "#     datesS = ['3/21/20', '3/22/20', '3/23/20', '3/24/20', '3/25/20']\n",
    "#     dates = []\n",
    "#     for date in datesS:\n",
    "#         dates.append(datetime.strptime(date, \"%m/%d/%y\"))\n",
    "    finalModelPredictions = []\n",
    "    count = 0\n",
    "    day0 = dates[0]\n",
    "    for date in dates:\n",
    "        t = (date-day0).days\n",
    "        print(t)\n",
    "        while(modelT[count]<=t):\n",
    "            count+=1\n",
    "            if(count == len(modelT)):\n",
    "                print(\"Last prediction reached - Number of predictions less than required\")\n",
    "                finalModelPredictions.append(modelI[count-1])\n",
    "                return finalModelPredictions\n",
    "            \n",
    "        diff1 = t - modelT[count-1]\n",
    "        diff2 = modelT[count] - t\n",
    "        if(diff1<=diff2):\n",
    "            finalModelPredictions.append(modelI[count-1])\n",
    "            count -=1\n",
    "        else:\n",
    "            finalModelPredictions.append(modelI[count])\n",
    "            \n",
    "    return finalModelPredictions"
   ]
  },
  {
   "cell_type": "code",
   "execution_count": 114,
   "metadata": {
    "scrolled": true
   },
   "outputs": [
    {
     "name": "stdout",
     "output_type": "stream",
     "text": [
      "(10.0, 0.0, 0)\n",
      "(10.0, 0.686695632541538, 1)\n",
      "(10.0, 0.7608766577585226, 2)\n",
      "(9.0, 1.1376487929365617, 3)\n",
      "(8.0, 1.2552836905769018, 4)\n",
      "(8.0, 1.6429438860912144, 5)\n",
      "(8.0, 1.6761708760031906, 6)\n",
      "(8.0, 2.4372343433385133, 7)\n",
      "(9.0, 2.7426277698730845, 8)\n",
      "(8.0, 3.0899739340926975, 9)\n",
      "(7.0, 3.2277154167139064, 10)\n",
      "(6.0, 3.3526440771815773, 11)\n",
      "(6.0, 3.405332060716196, 12)\n",
      "(6.0, 4.155704358851042, 13)\n",
      "(7.0, 4.16572756439204, 14)\n",
      "(6.0, 4.184063949048825, 15)\n",
      "(6.0, 4.254265622475148, 16)\n",
      "(5.0, 6.209814830593387, 17)\n"
     ]
    }
   ],
   "source": [
    "Itemp = I[:18]\n",
    "Ttemp = t[:18]\n",
    "for i in range(18):\n",
    "    print(Itemp[i], Ttemp[i], i)"
   ]
  },
  {
   "cell_type": "code",
   "execution_count": 115,
   "metadata": {},
   "outputs": [
    {
     "name": "stdout",
     "output_type": "stream",
     "text": [
      "0\n",
      "1\n",
      "2\n",
      "3\n",
      "4\n"
     ]
    }
   ],
   "source": [
    "predtemp = alignTimeSeries(Itemp, Ttemp, None)"
   ]
  },
  {
   "cell_type": "code",
   "execution_count": 116,
   "metadata": {},
   "outputs": [
    {
     "name": "stdout",
     "output_type": "stream",
     "text": [
      "[10.0, 9.0, 8.0, 8.0, 6.0]\n"
     ]
    }
   ],
   "source": [
    "print(predtemp)"
   ]
  },
  {
   "cell_type": "code",
   "execution_count": 107,
   "metadata": {},
   "outputs": [
    {
     "name": "stdout",
     "output_type": "stream",
     "text": [
      "(-5.817031359452336, 6.161028104798607, -11.978059464250943)\n",
      "(-2.5276109169958456, 6.146726281191109, -8.674337198186954)\n",
      "(-3.167512330472791, 4.882532677798338, -8.050045008271129)                \n",
      "(3.7638167536884275, 1.6441156654226408, 2.1197010882657867)               \n",
      "(-2.893467285655169, 6.1149546087162685, -9.008421894371438)                \n",
      "100%|██████████| 5/5 [00:00<00:00, 69.08trial/s, best loss: -11.9780594643] \n",
      "{'a': -5.817031359452336, 'b': 6.161028104798607}\n"
     ]
    }
   ],
   "source": [
    "#Trying out hyperOpt to check how it works - ignore this\n",
    "\n",
    "def objective(params):\n",
    "    a = params['a'] \n",
    "    b = params['b']\n",
    "    print(a, b, a-b)\n",
    "    return a - b\n",
    "\n",
    "# define a search space\n",
    "from hyperopt import hp\n",
    "space = {'a': hp.uniform('a', -10, 10), \n",
    "         'b': hp.uniform('b', 0, 10)}\n",
    "\n",
    "# minimize the objective over the space\n",
    "from hyperopt import fmin, tpe, space_eval\n",
    "best = fmin(objective, space, algo=tpe.suggest, max_evals=5)\n",
    "print(space_eval(space, best))"
   ]
  },
  {
   "cell_type": "code",
   "execution_count": null,
   "metadata": {},
   "outputs": [],
   "source": [
    "def tuneParameters(params, actualFile):\n",
    "#     numNodes = 10000\n",
    "#     baseGraph    = networkx.barabasi_albert_graph(n=numNodes, m=9)\n",
    "#     G_normal     = custom_exponential_graph(baseGraph, scale=100)\n",
    "#     # Social distancing interactions:\n",
    "#     G_distancing = custom_exponential_graph(baseGraph, scale=10)\n",
    "#     # Quarantine interactions:\n",
    "#     G_quarantine = custom_exponential_graph(baseGraph, scale=5)\n",
    "\n",
    "#     model = SEIRSNetworkModel(G=G_normal, beta=0.155, sigma=1/5.2, gamma=1/12.39, mu_I=0.0004, p=0.5,\n",
    "#                               Q=G_quarantine, beta_D=0.155, sigma_D=1/5.2, gamma_D=1/12.39, mu_D=0.0004,\n",
    "#                               theta_E=0.02, theta_I=0.02, phi_E=0.2, phi_I=0.2, psi_E=1.0, psi_I=1.0, q=0.5,\n",
    "#                               initI=10)\n",
    "\n",
    "#     checkpoints = {'t': [20, 100], 'G': [G_distancing, G_normal], 'p': [0.1, 0.5], 'theta_E': [0.02, 0.02], 'theta_I': [0.02, 0.02], 'phi_E':   [0.2, 0.2], 'phi_I':   [0.2, 0.2]}\n",
    "\n",
    "#     model.run(T=300, checkpoints=checkpoints)\n",
    "\n",
    "#TODO - get forecast from models after reading parameters from 'params'\n",
    "    \n",
    "    modelPredictions = model.numI\n",
    "    modelTseries = model.tseries\n",
    "    \n",
    "    modelPredictionsAlign = alignTimeSeries(modelPredictions, modelTseries, dates)\n",
    "    \n",
    "    return loss(modelPredictions, trueValues, 'rmse')"
   ]
  },
  {
   "cell_type": "code",
   "execution_count": null,
   "metadata": {},
   "outputs": [],
   "source": [
    "search_space = {'a': hp.uniform('a', -10, 10), \n",
    "         'b': hp.uniform('b', 0, 10)}\n",
    "\n",
    "partialTuneParameters = partial(tuneParameters, actualFile = './path-to-actual-file')\n",
    "best = fmin(tuneParameters, search_space, algo=tpe.suggest, max_evals=5)\n",
    "print(space_eval(space, best))"
   ]
  }
 ],
 "metadata": {
  "kernelspec": {
   "display_name": "Python 2",
   "language": "python",
   "name": "python2"
  },
  "language_info": {
   "codemirror_mode": {
    "name": "ipython",
    "version": 2
   },
   "file_extension": ".py",
   "mimetype": "text/x-python",
   "name": "python",
   "nbconvert_exporter": "python",
   "pygments_lexer": "ipython2",
   "version": "2.7.10"
  }
 },
 "nbformat": 4,
 "nbformat_minor": 2
}
