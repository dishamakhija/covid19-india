{
 "cells": [
  {
   "cell_type": "markdown",
   "metadata": {},
   "source": [
    "### 1. Package setup"
   ]
  },
  {
   "cell_type": "code",
   "execution_count": 1,
   "metadata": {},
   "outputs": [],
   "source": [
    "import scipy\n",
    "import math\n",
    "import numpy as np\n",
    "import pandas as pd\n",
    "import datetime\n",
    "from matplotlib import pyplot as plt\n",
    "from curvefit.core.model import CurveModel\n",
    "from curvefit import pv\n",
    "from sklearn.metrics import mean_squared_error, mean_squared_log_error\n",
    "from curvefit.core.functions import log_erf, erf, expit, log_expit"
   ]
  },
  {
   "cell_type": "markdown",
   "metadata": {},
   "source": [
    "### 2. Input data setup"
   ]
  },
  {
   "cell_type": "code",
   "execution_count": 2,
   "metadata": {},
   "outputs": [],
   "source": [
    "# Model active cases\n",
    "# Need to transform this data format to an amenable format for the IHME model\n",
    "active_cases_italy = 'timeseries_covid19_italy_nhu_confirmed_cases_04102020.csv'\n",
    "# Active cases as of 10 April from https://github.com/dishamakhija/covid19-india/blob/master/data/"
   ]
  },
  {
   "cell_type": "code",
   "execution_count": 3,
   "metadata": {},
   "outputs": [],
   "source": [
    "def generalized_logistic(t, params) :\n",
    "    alpha = params[0]\n",
    "    beta  = params[1]\n",
    "    p     = params[2]\n",
    "    return p / ( 1.0 + np.exp( - alpha * ( t - beta ) ) )"
   ]
  },
  {
   "cell_type": "markdown",
   "metadata": {},
   "source": [
    "### 3. Load input data"
   ]
  },
  {
   "cell_type": "code",
   "execution_count": 4,
   "metadata": {},
   "outputs": [],
   "source": [
    "df_italy = pd.read_csv(active_cases_italy)\n",
    "\n",
    "lombardia_cases = df_italy.loc[df_italy['Province/State'] == 'Lombardia']\n"
   ]
  },
  {
   "cell_type": "code",
   "execution_count": 9,
   "metadata": {},
   "outputs": [],
   "source": [
    "train_date_start = datetime.datetime(2020, 3, 12)\n",
    "train_date_end = datetime.datetime(2020, 3, 26)\n",
    "test_date_start = datetime.datetime(2020, 3, 27)\n",
    "test_date_end = datetime.datetime(2020, 4, 9)"
   ]
  },
  {
   "cell_type": "code",
   "execution_count": 6,
   "metadata": {},
   "outputs": [
    {
     "data": {
      "text/html": [
       "<div>\n",
       "<style scoped>\n",
       "    .dataframe tbody tr th:only-of-type {\n",
       "        vertical-align: middle;\n",
       "    }\n",
       "\n",
       "    .dataframe tbody tr th {\n",
       "        vertical-align: top;\n",
       "    }\n",
       "\n",
       "    .dataframe thead th {\n",
       "        text-align: right;\n",
       "    }\n",
       "</style>\n",
       "<table border=\"1\" class=\"dataframe\">\n",
       "  <thead>\n",
       "    <tr style=\"text-align: right;\">\n",
       "      <th></th>\n",
       "      <th>Province/State</th>\n",
       "      <th>Country/Region</th>\n",
       "      <th>Lat</th>\n",
       "      <th>Long</th>\n",
       "      <th>02/24/2020</th>\n",
       "      <th>02/25/2020</th>\n",
       "      <th>02/26/2020</th>\n",
       "      <th>02/27/2020</th>\n",
       "      <th>02/28/2020</th>\n",
       "      <th>02/29/2020</th>\n",
       "      <th>...</th>\n",
       "      <th>03/31/2020</th>\n",
       "      <th>04/01/2020</th>\n",
       "      <th>04/02/2020</th>\n",
       "      <th>04/03/2020</th>\n",
       "      <th>04/04/2020</th>\n",
       "      <th>04/05/2020</th>\n",
       "      <th>04/06/2020</th>\n",
       "      <th>04/07/2020</th>\n",
       "      <th>04/08/2020</th>\n",
       "      <th>04/09/2020</th>\n",
       "    </tr>\n",
       "  </thead>\n",
       "  <tbody>\n",
       "    <tr>\n",
       "      <th>8</th>\n",
       "      <td>Lombardia</td>\n",
       "      <td>Italy</td>\n",
       "      <td>45.466794</td>\n",
       "      <td>9.190347</td>\n",
       "      <td>172</td>\n",
       "      <td>240</td>\n",
       "      <td>258</td>\n",
       "      <td>403</td>\n",
       "      <td>531</td>\n",
       "      <td>615</td>\n",
       "      <td>...</td>\n",
       "      <td>43208</td>\n",
       "      <td>44773</td>\n",
       "      <td>46065</td>\n",
       "      <td>47520</td>\n",
       "      <td>49118</td>\n",
       "      <td>50455</td>\n",
       "      <td>51534</td>\n",
       "      <td>52325</td>\n",
       "      <td>53414</td>\n",
       "      <td>54802</td>\n",
       "    </tr>\n",
       "  </tbody>\n",
       "</table>\n",
       "<p>1 rows × 50 columns</p>\n",
       "</div>"
      ],
      "text/plain": [
       "  Province/State Country/Region        Lat      Long  02/24/2020  02/25/2020  \\\n",
       "8      Lombardia          Italy  45.466794  9.190347         172         240   \n",
       "\n",
       "   02/26/2020  02/27/2020  02/28/2020  02/29/2020  ...  03/31/2020  \\\n",
       "8         258         403         531         615  ...       43208   \n",
       "\n",
       "   04/01/2020  04/02/2020  04/03/2020  04/04/2020  04/05/2020  04/06/2020  \\\n",
       "8       44773       46065       47520       49118       50455       51534   \n",
       "\n",
       "   04/07/2020  04/08/2020  04/09/2020  \n",
       "8       52325       53414       54802  \n",
       "\n",
       "[1 rows x 50 columns]"
      ]
     },
     "execution_count": 6,
     "metadata": {},
     "output_type": "execute_result"
    }
   ],
   "source": [
    "lombardia_cases"
   ]
  },
  {
   "cell_type": "markdown",
   "metadata": {},
   "source": [
    "### 4. Prepare data in the IHME format"
   ]
  },
  {
   "cell_type": "code",
   "execution_count": 7,
   "metadata": {},
   "outputs": [],
   "source": [
    "def fetch_columns(df, start_date, end_date, under_reporting_factor):\n",
    "    \"\"\"\n",
    "    Helper function to fetch the columns from the active cases df\n",
    "    Assumption: df contains only 1 row corresponding to the Province/Region \n",
    "    of interest\n",
    "    \"\"\"\n",
    "    # The code for fetching the dates from the df is not clean\n",
    "    # will clean it up later\n",
    "    active_cases = []\n",
    "    date = start_date\n",
    "    delta = datetime.timedelta(days=1)\n",
    "    count_df = pd.DataFrame(columns=[\"date\", \"active_count\"])\n",
    "    while date <= end_date:\n",
    "        ##### NOTE - CHANGED DATE FORMAT FOR BLORE DATA\n",
    "        num_active = df[date.strftime('%m/%d/%Y')].values[0]\n",
    "        #num_active = df[date.strftime('%F')].values[0]\n",
    "        count_df = count_df.append({\n",
    "         \"date\": date,\n",
    "         \"active_count\": num_active \n",
    "          }, ignore_index=True)\n",
    "        date += delta\n",
    "    \n",
    "    count_df = count_df.sort_values(by='date', ascending=True)\n",
    "    count_df.active_count = count_df.active_count*under_reporting_factor\n",
    "    count_df['cumulative_count'] = count_df.active_count\n",
    "    print(count_df)\n",
    "    return count_df\n",
    "\n",
    "def create_ihme_input(region, active_case_df, train_date_start, train_date_end, \n",
    "                      test_date_start, test_date_end,under_reporting_factor, col_covariate_vars,\n",
    "                      social_distance):\n",
    "    \"\"\"\n",
    "    active_case_df : Active caess for the Province/State under consideration (pd.Dataframe)\n",
    "    train_date_start, train_date_end : Date range for train time frame\n",
    "    test_date_start, test_date_end : Date range for test time frame\n",
    "    \"\"\"\n",
    "    train_active_cases_df = fetch_columns(active_case_df, train_date_start, train_date_end, under_reporting_factor)\n",
    "    test_active_cases_df = fetch_columns(active_case_df, test_date_start, test_date_end, under_reporting_factor)\n",
    "    \n",
    "    num_points = (train_active_cases_df.shape[0])\n",
    "    \n",
    "    assert(len(social_distance) == num_points)\n",
    "    # As of now we assume all variates have same variance\n",
    "    assert(len(col_covariate_vars) == num_points)\n",
    "    \n",
    "    num_train_days = (train_date_end - train_date_start).days + 1\n",
    "    print(num_train_days)\n",
    "    independent_var   = train_active_cases_df.index\n",
    "    measurement_value = train_active_cases_df['cumulative_count']\n",
    "    covariate_var     = col_covariate_vars\n",
    "    print(covariate_var)\n",
    "    social_distance   = [1 for i in range(num_train_days)]\n",
    "    data_group        = num_train_days * [region]\n",
    "    data_dict         = {\n",
    "        'independent_var'   : independent_var   ,\n",
    "        'measurement_value' : measurement_value ,\n",
    "        'covariate_var'     : covariate_var     ,\n",
    "        'social_distance'   : social_distance   ,\n",
    "        'region'        : region        ,\n",
    "    }\n",
    "    train_df = pd.DataFrame(data_dict)\n",
    "    print(train_df)\n",
    "    return train_df, train_active_cases_df, test_active_cases_df\n",
    "\n",
    "# Functions\n",
    "# identity function\n",
    "def identity_fun(x):\n",
    "    return x\n",
    "# link function used for alpha, p\n",
    "def exp_fun(x):\n",
    "    return np.exp(x)\n",
    "\n",
    "def compute_mape(y_true, y_pred):\n",
    "    mape = 0\n",
    "    for i in range(len(y_pred)):\n",
    "        if(not y_true[i] == 0):\n",
    "            mape+= np.abs((y_true[i] - y_pred[i] + 0.) / y_true[i])\n",
    "    mape = (100*mape)/len(y_pred)\n",
    "    return mape\n",
    "\n",
    "def rmse_error(y_true, y_pred):\n",
    "    rmse = mean_squared_error(y_true, y_pred)\n",
    "            \n",
    "    rmse = math.sqrt(rmse)\n",
    "    return rmse\n",
    "\n",
    "def rmsle_error(y_true, y_pred):\n",
    "    rmsle = mean_squared_log_error(y_true, y_pred)\n",
    "            \n",
    "    rmsle = math.sqrt(rmsle)\n",
    "    return rmsle\n",
    "\n"
   ]
  },
  {
   "cell_type": "markdown",
   "metadata": {},
   "source": [
    "### 4. Model\n",
    "### Model assumptions\n",
    "- Independent variable - Day\n",
    "- Measurement val - number of active cases\n",
    "- Social distancing - 1.0  # TODO: Need to understand scale"
   ]
  },
  {
   "cell_type": "code",
   "execution_count": 10,
   "metadata": {},
   "outputs": [
    {
     "name": "stdout",
     "output_type": "stream",
     "text": [
      "15\n",
      "         date active_count cumulative_count\n",
      "0  2020-03-12        17450            17450\n",
      "1  2020-03-13        19640            19640\n",
      "2  2020-03-14        23370            23370\n",
      "3  2020-03-15        26544            26544\n",
      "4  2020-03-16        29298            29298\n",
      "5  2020-03-17        32440            32440\n",
      "6  2020-03-18        35426            35426\n",
      "7  2020-03-19        39768            39768\n",
      "8  2020-03-20        44528            44528\n",
      "9  2020-03-21        51030            51030\n",
      "10 2020-03-22        54412            54412\n",
      "11 2020-03-23        57522            57522\n",
      "12 2020-03-24        61406            61406\n",
      "13 2020-03-25        64692            64692\n",
      "14 2020-03-26        69778            69778\n",
      "         date active_count cumulative_count\n",
      "0  2020-03-27        74596            74596\n",
      "1  2020-03-28        78830            78830\n",
      "2  2020-03-29        82014            82014\n",
      "3  2020-03-30        84322            84322\n",
      "4  2020-03-31        86416            86416\n",
      "5  2020-04-01        89546            89546\n",
      "6  2020-04-02        92130            92130\n",
      "7  2020-04-03        95040            95040\n",
      "8  2020-04-04        98236            98236\n",
      "9  2020-04-05       100910           100910\n",
      "10 2020-04-06       103068           103068\n",
      "11 2020-04-07       104650           104650\n",
      "12 2020-04-08       106828           106828\n",
      "13 2020-04-09       109604           109604\n",
      "15\n",
      "[1.11, 1.11, 1.11, 1.11, 1.11, 1.11, 1.11, 1.11, 1.11, 1.11, 1.11, 1.11, 1.11, 1.11, 1.11]\n",
      "    independent_var measurement_value  covariate_var  social_distance  \\\n",
      "0                 0             17450           1.11                1   \n",
      "1                 1             19640           1.11                1   \n",
      "2                 2             23370           1.11                1   \n",
      "3                 3             26544           1.11                1   \n",
      "4                 4             29298           1.11                1   \n",
      "5                 5             32440           1.11                1   \n",
      "6                 6             35426           1.11                1   \n",
      "7                 7             39768           1.11                1   \n",
      "8                 8             44528           1.11                1   \n",
      "9                 9             51030           1.11                1   \n",
      "10               10             54412           1.11                1   \n",
      "11               11             57522           1.11                1   \n",
      "12               12             61406           1.11                1   \n",
      "13               13             64692           1.11                1   \n",
      "14               14             69778           1.11                1   \n",
      "\n",
      "       region  \n",
      "0   Lombardia  \n",
      "1   Lombardia  \n",
      "2   Lombardia  \n",
      "3   Lombardia  \n",
      "4   Lombardia  \n",
      "5   Lombardia  \n",
      "6   Lombardia  \n",
      "7   Lombardia  \n",
      "8   Lombardia  \n",
      "9   Lombardia  \n",
      "10  Lombardia  \n",
      "11  Lombardia  \n",
      "12  Lombardia  \n",
      "13  Lombardia  \n",
      "14  Lombardia  \n"
     ]
    }
   ],
   "source": [
    "region = 'Lombardia'\n",
    "num_train_days = (train_date_end - train_date_start).days + 1 # Account for the boundary case\n",
    "print(num_train_days)\n",
    "col_covariate_vars = num_train_days * [1.11]\n",
    "social_distance = num_train_days * [10.0]\n",
    "under_reporting_factor = 2\n",
    "train_df, train_active_cases, test_active_cases = create_ihme_input(region, lombardia_cases,\n",
    "                                                                   train_date_start, train_date_end,\n",
    "                                                                   test_date_start, test_date_end, \n",
    "                                                                    under_reporting_factor,\n",
    "                                                                   col_covariate_vars, social_distance)"
   ]
  },
  {
   "cell_type": "code",
   "execution_count": 11,
   "metadata": {},
   "outputs": [],
   "source": [
    "# curve_model\n",
    "num_params   = 3 # alpha, beta and p\n",
    "num_fe       = 3 # fixed effect parameters\n",
    "col_t        = 'independent_var'\n",
    "col_obs      = 'measurement_value'\n",
    "col_covs     = num_params *[['covariate_var']]\n",
    "col_group    = 'region'\n",
    "param_names  = ['alpha', 'beta', 'p']\n",
    "link_fun     = [exp_fun, identity_fun, exp_fun ]\n",
    "var_link_fun = num_fe * [identity_fun ]\n",
    "fun          = erf"
   ]
  },
  {
   "cell_type": "code",
   "execution_count": 12,
   "metadata": {},
   "outputs": [
    {
     "data": {
      "text/plain": [
       "[['covariate_var'], ['covariate_var'], ['covariate_var']]"
      ]
     },
     "execution_count": 12,
     "metadata": {},
     "output_type": "execute_result"
    }
   ],
   "source": [
    "col_covs"
   ]
  },
  {
   "cell_type": "code",
   "execution_count": 14,
   "metadata": {},
   "outputs": [
    {
     "name": "stdout",
     "output_type": "stream",
     "text": [
      "[[-inf, inf], [0, inf], [0, inf]]\n"
     ]
    }
   ],
   "source": [
    "# Initialize params\n",
    "fe_init   = np.ones(num_fe)\n",
    "re_init   = np.ones(num_fe)\n",
    "fe_bounds = [[-np.inf, np.inf], [0, np.inf], [0, np.inf]] \n",
    "print(fe_bounds)\n",
    "re_bounds = [[0.0, 0.0]] * num_fe"
   ]
  },
  {
   "cell_type": "code",
   "execution_count": 22,
   "metadata": {},
   "outputs": [
    {
     "name": "stdout",
     "output_type": "stream",
     "text": [
      "{'alpha': 0.07060273778959013, 'beta': 9.873512940358843, 'p': 105446.59025783473, 'train_mape': 1.698679373395907, 'train_rmsle': 0.020900729254549312, 'test_mape': 2.696361116255715, 'test_rmsle': 0.031292433605656186}\n"
     ]
    }
   ],
   "source": [
    "var_a = [1]\n",
    "var_b = [1]\n",
    "var_c = [1]\n",
    "\n",
    "train_df['var_a'] = 0\n",
    "train_df['var_b'] = 0\n",
    "train_df['var_c'] = 0\n",
    "all_metrics = []\n",
    "for i in var_a:\n",
    "    for j in var_b:\n",
    "        for k in var_c:\n",
    "            flat = {}\n",
    "            train_df['var_a'] = i\n",
    "            train_df['var_b'] = j\n",
    "            train_df['var_c'] = k\n",
    "            col_covs = [['var_a'],['var_b'],['var_c']]\n",
    "            curve_model = CurveModel(\n",
    "            train_df,\n",
    "            col_t,\n",
    "            col_obs,\n",
    "            col_covs,\n",
    "            col_group,\n",
    "            param_names,\n",
    "            link_fun,\n",
    "            var_link_fun,\n",
    "            fun\n",
    "            )\n",
    "            curve_model.fit_params(fe_init, re_init, fe_bounds, re_bounds)\n",
    "            params_estimate = curve_model.params\n",
    "            fe_estimate     = curve_model.result.x[: num_fe]\n",
    "            flat['alpha'] = params_estimate[0][0]\n",
    "            flat['beta'] = params_estimate[1][0]\n",
    "            flat['p'] = params_estimate[2][0]\n",
    "            \n",
    "            out_train = curve_model.predict(\n",
    "            t=np.array(np.arange(0, 15)),\n",
    "            group_name=region\n",
    "            )\n",
    "            \n",
    "            if(( (np.max(out_train))!=np.inf) & ((np.isnan(out_train).any()==False))):\n",
    "                flat['train_mape'] = compute_mape(train_active_cases['cumulative_count'], out_train)\n",
    "                flat['train_rmsle'] = rmsle_error(train_active_cases['cumulative_count'], out_train)\n",
    "            else:\n",
    "                flat['train_mape'] = np.inf\n",
    "                flat['train_rmsle'] = np.inf\n",
    "            \n",
    "            test_out = curve_model.predict(\n",
    "            t=np.array(np.arange(16, 30)),\n",
    "            group_name=region\n",
    "            )\n",
    "            \n",
    "            \n",
    "            if( ((np.max(test_out))!=np.inf) & ((np.isnan(test_out).any())==False)):\n",
    "                flat['test_mape'] = compute_mape(test_active_cases['cumulative_count'], test_out)\n",
    "                flat['test_rmsle'] = rmsle_error(test_active_cases['cumulative_count'], test_out)\n",
    "            else:\n",
    "                flat['test_mape'] = np.inf\n",
    "                flat['test_rmsle'] = np.inf\n",
    "            \n",
    "            print(flat)\n",
    "            \n",
    "            all_metrics.append(flat)"
   ]
  },
  {
   "cell_type": "code",
   "execution_count": 21,
   "metadata": {},
   "outputs": [
    {
     "name": "stdout",
     "output_type": "stream",
     "text": [
      "[ 76937.66351307  80311.45726072  83454.05382435  86352.28238877\n",
      "  88998.65219205  91391.09921925  93532.54965365  95430.33732306\n",
      "  97095.5170372   98542.11716508  99786.37327775 100845.98062858\n",
      " 101739.39726863 102485.22238756]\n",
      "0      74596\n",
      "1      78830\n",
      "2      82014\n",
      "3      84322\n",
      "4      86416\n",
      "5      89546\n",
      "6      92130\n",
      "7      95040\n",
      "8      98236\n",
      "9     100910\n",
      "10    103068\n",
      "11    104650\n",
      "12    106828\n",
      "13    109604\n",
      "Name: cumulative_count, dtype: object\n"
     ]
    }
   ],
   "source": [
    "print(test_out)\n",
    "print(test_active_cases['cumulative_count'])"
   ]
  },
  {
   "cell_type": "code",
   "execution_count": 24,
   "metadata": {},
   "outputs": [
    {
     "name": "stdout",
     "output_type": "stream",
     "text": [
      "[17093.39966613 19803.88618334 22764.86267753 25967.41745605\n",
      " 29396.92745295 33033.07484096 36850.09790054 40817.27865359\n",
      " 44899.65550523 49058.93492423 53254.56317898 57444.90841961\n",
      " 61588.49587989 65645.23532034 69577.58036893]\n",
      "0     17450\n",
      "1     19640\n",
      "2     23370\n",
      "3     26544\n",
      "4     29298\n",
      "5     32440\n",
      "6     35426\n",
      "7     39768\n",
      "8     44528\n",
      "9     51030\n",
      "10    54412\n",
      "11    57522\n",
      "12    61406\n",
      "13    64692\n",
      "14    69778\n",
      "Name: cumulative_count, dtype: object\n"
     ]
    }
   ],
   "source": [
    "print(out_train)\n",
    "print(train_active_cases['cumulative_count'])"
   ]
  }
 ],
 "metadata": {
  "kernelspec": {
   "display_name": "Python 3",
   "language": "python",
   "name": "python3"
  },
  "language_info": {
   "codemirror_mode": {
    "name": "ipython",
    "version": 3
   },
   "file_extension": ".py",
   "mimetype": "text/x-python",
   "name": "python",
   "nbconvert_exporter": "python",
   "pygments_lexer": "ipython3",
   "version": "3.7.3"
  }
 },
 "nbformat": 4,
 "nbformat_minor": 4
}
