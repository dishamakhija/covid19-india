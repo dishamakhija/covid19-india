{
 "cells": [
  {
   "cell_type": "code",
   "execution_count": 1,
   "metadata": {},
   "outputs": [],
   "source": [
    "import json\n",
    "from modules.training_module import TrainingModule\n",
    "from modules.model_evaluator import ModelEvaluator\n",
    "from configs.base_config import TrainingModuleConfig\n",
    "from configs.base_config import ModelEvaluatorConfig"
   ]
  },
  {
   "cell_type": "code",
   "execution_count": 12,
   "metadata": {},
   "outputs": [],
   "source": [
    "sample_train_config = json.loads('{ \"region_name\": \"Bengaluru\", \"train_start_date\": \"4/13/20\", \"train_end_date\": \"4/20/20\", \"model_class\": \"SEIR\", \"model_parameters\": { \"infectious_period\": 9.5412, \"incubation_period\": 6, \"IbyCRatio\": 1 }, \"search_space\": { \"r0\": [ 0.8, 6 ], \"EbyCRatio\": [ 1, 70 ] }, \"search_parameters\": { \"max_evals\": 10 }, \"loss_functions\": [ { \"metric_name\": \"mape\", \"variable_weights\": [ { \"variable\": \"active\", \"weight\": 1 } ], \"optimize\": true}, { \"metric_name\": \"rmse\", \"variable_weights\": [ { \"variable\": \"active\", \"weight\": 1 } ] } ], \"output_filepath\": \"seir_train.json\" }')\n",
    "sample_test_config = json.loads('{ \"region_name\": \"Bengaluru\", \"run_day\": \"4/20/20\", \"test_start_date\": \"4/21/20\", \"test_end_date\": \"4/27/20\", \"model_class\": \"SEIR\", \"model_parameters\": {\"infectious_period\": 9.5412, \"r0\": 2.4091, \"incubation_period\": 6, \"IbyCRatio\": 1}, \"loss_functions\": [ { \"metric_name\": \"mape\", \"variable_weights\": [ { \"variable\": \"active\", \"weight\": 1 } ], \"optimize\": true }, { \"metric_name\": \"rmse\", \"variable_weights\": [ { \"variable\": \"active\", \"weight\": 1 } ] } ], \"output_filepath\": \"seir_evaluation_output.json\" }')\n",
    "sample_finaltrain_config = json.loads('{ \"region_name\": \"Bengaluru\", \"train_start_date\": \"4/21/20\", \"train_end_date\": \"4/27/20\", \"model_class\": \"SEIR\", \"model_parameters\": { \"infectious_period\": 9.5412, \"incubation_period\": 6, \"IbyCRatio\": 1 }, \"search_space\": { \"r0\": [ 0.8, 6 ], \"EbyCRatio\": [ 1, 70 ] }, \"search_parameters\": { \"max_evals\": 10 }, \"loss_functions\": [ { \"metric_name\": \"mape\", \"variable_weights\": [ { \"variable\": \"active\", \"weight\": 1 } ], \"optimize\": true}, { \"metric_name\": \"rmse\", \"variable_weights\": [ { \"variable\": \"active\", \"weight\": 1 } ] } ], \"output_filepath\": \"seir_train.json\" }')\n",
    "\n",
    "#runday will be startday-1"
   ]
  },
  {
   "cell_type": "code",
   "execution_count": 13,
   "metadata": {},
   "outputs": [
    {
     "data": {
      "text/plain": [
       "{'region_name': 'Bengaluru',\n",
       " 'train_start_date': '4/13/20',\n",
       " 'train_end_date': '4/20/20',\n",
       " 'model_class': 'SEIR',\n",
       " 'model_parameters': {'infectious_period': 9.5412,\n",
       "  'incubation_period': 6,\n",
       "  'IbyCRatio': 1},\n",
       " 'search_space': {'r0': [0.8, 6], 'EbyCRatio': [1, 70]},\n",
       " 'search_parameters': {'max_evals': 10},\n",
       " 'loss_functions': [{'metric_name': 'mape',\n",
       "   'variable_weights': [{'variable': 'active', 'weight': 1}],\n",
       "   'optimize': True},\n",
       "  {'metric_name': 'rmse',\n",
       "   'variable_weights': [{'variable': 'active', 'weight': 1}]}],\n",
       " 'output_filepath': 'seir_train.json'}"
      ]
     },
     "execution_count": 13,
     "metadata": {},
     "output_type": "execute_result"
    }
   ],
   "source": [
    "sample_train_config"
   ]
  },
  {
   "cell_type": "code",
   "execution_count": 14,
   "metadata": {},
   "outputs": [
    {
     "data": {
      "text/plain": [
       "{'region_name': 'Bengaluru',\n",
       " 'run_day': '4/20/20',\n",
       " 'test_start_date': '4/21/20',\n",
       " 'test_end_date': '4/27/20',\n",
       " 'model_class': 'SEIR',\n",
       " 'model_parameters': {'infectious_period': 9.5412,\n",
       "  'r0': 2.4091,\n",
       "  'incubation_period': 6,\n",
       "  'IbyCRatio': 1},\n",
       " 'loss_functions': [{'metric_name': 'mape',\n",
       "   'variable_weights': [{'variable': 'active', 'weight': 1}],\n",
       "   'optimize': True},\n",
       "  {'metric_name': 'rmse',\n",
       "   'variable_weights': [{'variable': 'active', 'weight': 1}]}],\n",
       " 'output_filepath': 'seir_evaluation_output.json'}"
      ]
     },
     "execution_count": 14,
     "metadata": {},
     "output_type": "execute_result"
    }
   ],
   "source": [
    "sample_test_config"
   ]
  },
  {
   "cell_type": "code",
   "execution_count": 15,
   "metadata": {},
   "outputs": [
    {
     "data": {
      "text/plain": [
       "{'region_name': 'Bengaluru',\n",
       " 'train_start_date': '4/21/20',\n",
       " 'train_end_date': '4/27/20',\n",
       " 'model_class': 'SEIR',\n",
       " 'model_parameters': {'infectious_period': 9.5412,\n",
       "  'incubation_period': 6,\n",
       "  'IbyCRatio': 1},\n",
       " 'search_space': {'r0': [0.8, 6], 'EbyCRatio': [1, 70]},\n",
       " 'search_parameters': {'max_evals': 10},\n",
       " 'loss_functions': [{'metric_name': 'mape',\n",
       "   'variable_weights': [{'variable': 'active', 'weight': 1}],\n",
       "   'optimize': True},\n",
       "  {'metric_name': 'rmse',\n",
       "   'variable_weights': [{'variable': 'active', 'weight': 1}]}],\n",
       " 'output_filepath': 'seir_train.json'}"
      ]
     },
     "execution_count": 15,
     "metadata": {},
     "output_type": "execute_result"
    }
   ],
   "source": [
    "sample_finaltrain_config"
   ]
  },
  {
   "cell_type": "code",
   "execution_count": 16,
   "metadata": {
    "scrolled": true
   },
   "outputs": [
    {
     "name": "stdout",
     "output_type": "stream",
     "text": [
      "t = 7.90                                              \n",
      "t = 7.90                                              \n",
      "t = 7.90                                                                        \n",
      "t = 7.90                                                                        \n",
      "t = 7.90                                                                        \n",
      "t = 7.90                                                                       \n",
      "t = 7.90                                                                       \n",
      "t = 7.90                                                                       \n",
      "t = 7.90                                                                       \n",
      "t = 7.90                                                                       \n",
      "100%|██████████| 10/10 [00:00<00:00, 17.87trial/s, best loss: 851.3313101522183]\n",
      "Best fit: {'EbyCRatio': 18.58459141637886, 'r0': 5.628594639769091}\n",
      "Best Loss: 851.3313101522183\n",
      "t = 7.90\n",
      "t = 7.90\n",
      "Training Complete\n",
      "t = 7.90\n",
      "[{'metric_name': <MetricName.mape: 'mape'>, 'variable_weights': [{'variable': <ForecastVariable.active: 'active'>, 'weight': 1.0}], 'optimize': True, 'value': 116.24887557832392}, {'metric_name': <MetricName.rmse: 'rmse'>, 'variable_weights': [{'variable': <ForecastVariable.active: 'active'>, 'weight': 1.0}], 'optimize': False, 'value': 186.9950000699288}]\n",
      "Evaluation Complete\n",
      "t = 6.90                                              \n",
      "t = 6.90                                              \n",
      "t = 6.90                                                                        \n",
      "t = 6.90                                                                       \n",
      "t = 6.90                                                                       \n",
      "t = 6.90                                                                       \n",
      "t = 6.90                                                                       \n",
      "t = 6.90                                                                       \n",
      "t = 6.90                                                                       \n",
      "t = 6.90                                                                       \n",
      "100%|██████████| 10/10 [00:00<00:00, 19.79trial/s, best loss: 53.48556332456885]\n",
      "Best fit: {'EbyCRatio': 3.3583627001575995, 'r0': 1.5759634052638378}\n",
      "Best Loss: 53.48556332456885\n",
      "t = 6.90\n",
      "t = 6.90\n"
     ]
    }
   ],
   "source": [
    "regions = [('Bengaluru', 'district')]#, ('Pune', 'district'), ('Karnataka', 'state'), ('Rajasthan', 'state')]\n",
    "\n",
    "resultDict = dict()\n",
    "for region in regions:\n",
    "    resultDict[region[0]] = dict()\n",
    "   \n",
    "    train_config = sample_train_config.copy()\n",
    "    train_config['region_name'] = region[0]\n",
    "    train_config['region_type'] = region[1]\n",
    "    train_module_config = TrainingModuleConfig.parse_obj(train_config)\n",
    "    trainResults = TrainingModule.from_config(train_module_config)\n",
    "    \n",
    "    print(\"Training Complete\")\n",
    "    \n",
    "    #TODO: Might need to change IbyCRatio if the seed data is available for April 20th\n",
    "    \n",
    "    test_config = sample_test_config.copy()\n",
    "    test_config['region_name'] = region[0]\n",
    "    test_config['region_type'] = region[1]\n",
    "    test_config['model_parameters'].update(trainResults['best_params'])\n",
    "    test_config['model_parameters'].update(trainResults['latent_params'])\n",
    "    test_module_config = ModelEvaluatorConfig.parse_obj(test_config) \n",
    "    evalResults = ModelEvaluator.from_config(test_module_config)\n",
    "    print(evalResults)\n",
    "    \n",
    "    print(\"Evaluation Complete\")\n",
    "    finalTrain_config = sample_finaltrain_config.copy()\n",
    "    \n",
    "    #TODO: Might need to change IbyCRatio if the seed data is available for April 20th\n",
    "    \n",
    "    \n",
    "    finalTrain_config['region_name'] = region[0]\n",
    "    finalTrain_config['region_type'] = region[1]\n",
    "    finalTrain_module_config = TrainingModuleConfig.parse_obj(finalTrain_config)\n",
    "    finalResults = TrainingModule.from_config(finalTrain_module_config)\n",
    "    \n",
    "    #TODO: Might need to change IbyCRatio if the seed data is available for April 27th before exporting final params\n",
    "    \n",
    "    "
   ]
  },
  {
   "cell_type": "code",
   "execution_count": null,
   "metadata": {},
   "outputs": [],
   "source": []
  }
 ],
 "metadata": {
  "kernelspec": {
   "display_name": "Python 3",
   "language": "python",
   "name": "python3"
  },
  "language_info": {
   "codemirror_mode": {
    "name": "ipython",
    "version": 3
   },
   "file_extension": ".py",
   "mimetype": "text/x-python",
   "name": "python",
   "nbconvert_exporter": "python",
   "pygments_lexer": "ipython3",
   "version": "3.7.3"
  }
 },
 "nbformat": 4,
 "nbformat_minor": 2
}
