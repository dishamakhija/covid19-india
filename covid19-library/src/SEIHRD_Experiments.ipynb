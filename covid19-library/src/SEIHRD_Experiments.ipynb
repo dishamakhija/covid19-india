{
 "cells": [
  {
   "cell_type": "markdown",
   "metadata": {},
   "source": [
    "# SEIR model class experiments"
   ]
  },
  {
   "cell_type": "markdown",
   "metadata": {},
   "source": [
    "Utilities for train, forecasting and plotting are now provided in nb_utils.\n",
    "Documentation for the helper functions are available as docstrings.\n",
    "\n",
    "Set the appropriate training parameters and forecast parameters in the \n",
    "corresponding cells.\n",
    "\n",
    "train_eval   \n",
    "> Train and evaluate models (currently we only support SEIR family). \n",
    "  Default configuration parameters for train and test files are \n",
    "  provided as train_config.json and test_config.json respectively.\n",
    "  Search paramters, loss functions etc, are specified in the config\n",
    "  files.\n",
    "\n",
    "forecast, plot\n",
    "> Generate forecasts using a trained model and plotting utilities."
   ]
  },
  {
   "cell_type": "code",
   "execution_count": 1,
   "metadata": {},
   "outputs": [],
   "source": [
    "import json\n",
    "\n",
    "from nb_utils import train_eval\n",
    "from nb_utils import forecast\n",
    "from nb_utils import plot"
   ]
  },
  {
   "cell_type": "markdown",
   "metadata": {},
   "source": [
    "## Load default configurations"
   ]
  },
  {
   "cell_type": "code",
   "execution_count": 2,
   "metadata": {},
   "outputs": [],
   "source": [
    "with open('train_config.json') as f_train, \\\n",
    "    open('test_config.json') as f_test, \\\n",
    "    open('forecast_config.json') as f_forecast:\n",
    "    default_train_config = json.load(f_train)\n",
    "    default_test_config = json.load(f_test)\n",
    "    default_forecast_config = json.load(f_forecast)"
   ]
  },
  {
   "cell_type": "markdown",
   "metadata": {},
   "source": [
    "## Set the model class"
   ]
  },
  {
   "cell_type": "code",
   "execution_count": 3,
   "metadata": {},
   "outputs": [],
   "source": [
    "model_class = 'SEIHRD'\n",
    "default_train_config['model_class'] = model_class\n",
    "default_test_config['model_class'] = model_class\n",
    "default_forecast_config['model_class'] = model_class"
   ]
  },
  {
   "cell_type": "markdown",
   "metadata": {},
   "source": [
    "## Optional: Modify training loss function"
   ]
  },
  {
   "cell_type": "code",
   "execution_count": 4,
   "metadata": {},
   "outputs": [],
   "source": [
    "variable_and_weights = [('confirmed', 1.0), ('recovered', 1.0), ('deceased', 1.0), ('hospitalized', 1.0)]\n",
    "weights = {'metric_name' : 'mape', 'variable_weights' : []}\n",
    "for (variable, weight) in variable_and_weights:\n",
    "    weights['variable_weights'].append({\n",
    "        \"variable\" : variable,\n",
    "        \"weight\" : weight\n",
    "    })\n",
    "default_train_config['training_loss_function'].update(weights)"
   ]
  },
  {
   "cell_type": "markdown",
   "metadata": {},
   "source": [
    "## Training parameters"
   ]
  },
  {
   "cell_type": "code",
   "execution_count": 5,
   "metadata": {},
   "outputs": [],
   "source": [
    "region = 'mumbai'\n",
    "region_type = 'district'\n",
    "train1_start_date = '4/8/20'\n",
    "train1_end_date = '4/17/20'\n",
    "train2_start_date = '4/13/20'\n",
    "train2_end_date = '4/22/20'\n",
    "run_day = '4/17/20'\n",
    "test_start_date = '4/18/20'\n",
    "test_end_date = '4/22/20'"
   ]
  },
  {
   "cell_type": "markdown",
   "metadata": {},
   "source": [
    "## train_eval on the region of interest"
   ]
  },
  {
   "cell_type": "code",
   "execution_count": 6,
   "metadata": {},
   "outputs": [
    {
     "name": "stdout",
     "output_type": "stream",
     "text": [
      "t = 10.90                                             \n",
      "t = 10.90                                             \n",
      "t = 10.90                                                                       \n",
      "t = 10.90                                                                       \n",
      "t = 10.90                                                                       \n",
      "t = 10.90                                                                       \n",
      "t = 10.90                                                                       \n",
      "t = 10.90                                                                       \n",
      "t = 10.90                                                                       \n",
      "t = 10.90                                                                       \n",
      "100%|██████████| 10/10 [00:00<00:00, 13.49trial/s, best loss: 12250.228307340432]\n",
      "Best fit: {'EbyCRatio': 25.209832752127557, 'F_fatalities': 0.04413889938830243, 'F_hospitalization': 0.0528620471607663, 'IbyCRatio': 1.787494489506607, 'infectious_period': 9.574255672043675, 'r0': 1.0182366366704945}\n",
      "Best Loss: 12250.228307340432\n",
      "t = 10.90\n",
      "t = 10.90\n",
      "t = 5.90\n",
      "t = 10.90                                             \n",
      "t = 10.90                                             \n",
      "t = 10.90                                                                      \n",
      "t = 10.90                                                                      \n",
      "t = 10.90                                                                      \n",
      "t = 10.90                                                                      \n",
      "t = 10.90                                                                      \n",
      "t = 10.90                                                                      \n",
      "t = 10.90                                                                      \n",
      "t = 10.90                                                                      \n",
      "100%|██████████| 10/10 [00:00<00:00, 13.66trial/s, best loss: 44379.49735785053]\n",
      "Best fit: {'EbyCRatio': 36.866279450224404, 'F_fatalities': 0.027533999881324447, 'F_hospitalization': 0.07870178074485647, 'IbyCRatio': 0.709302331748716, 'infectious_period': 8.719643602654692, 'r0': 3.4689167621881953}\n",
      "Best Loss: 44379.49735785053\n",
      "t = 10.90\n",
      "t = 10.90\n"
     ]
    }
   ],
   "source": [
    "params, metrics, model_params = train_eval(region, region_type, \n",
    "                                           train1_start_date, train1_end_date, \n",
    "                                           train2_start_date, train2_end_date, run_day,\n",
    "                                           test_start_date, test_end_date,\n",
    "                                           default_train_config, default_test_config,\n",
    "                                           max_evals = 10,\n",
    "                                           mlflow_log = False,\n",
    "                                           name_prefix = 'mumbai_sample');"
   ]
  },
  {
   "cell_type": "markdown",
   "metadata": {},
   "source": [
    "## Inspect model parameters"
   ]
  },
  {
   "cell_type": "code",
   "execution_count": 7,
   "metadata": {},
   "outputs": [
    {
     "data": {
      "text/plain": [
       "{'region': 'mumbai',\n",
       " 'region_type': 'district',\n",
       " 'model_type': 'SEIHRD',\n",
       " 'model_parameters': {'incubation_period': 5,\n",
       "  'F_icu': 0.05,\n",
       "  'EbyCRatio': 36.866279450224404,\n",
       "  'F_fatalities': 0.027533999881324447,\n",
       "  'F_hospitalization': 0.07870178074485647,\n",
       "  'IbyCRatio': 0.709302331748716,\n",
       "  'infectious_period': 8.719643602654692,\n",
       "  'r0': 3.4689167621881953,\n",
       "  'LatentEbyCRatio': {'4/12/20': 36.866279450224404,\n",
       "   '4/22/20': 3.610553062252821},\n",
       "  'LatentIbyCRatio': {'4/12/20': 0.709302331748716,\n",
       "   '4/22/20': 0.4066970172602566},\n",
       "  'MAPE': 44379.49735785053}}"
      ]
     },
     "execution_count": 7,
     "metadata": {},
     "output_type": "execute_result"
    }
   ],
   "source": [
    "model_params"
   ]
  },
  {
   "cell_type": "markdown",
   "metadata": {},
   "source": [
    "## Forecast intervals"
   ]
  },
  {
   "cell_type": "code",
   "execution_count": 8,
   "metadata": {},
   "outputs": [],
   "source": [
    "forecast_run_day = '4/12/20'\n",
    "forecast_start_date = '4/13/20'\n",
    "forecast_end_date = '4/22/20'"
   ]
  },
  {
   "cell_type": "markdown",
   "metadata": {},
   "source": [
    "## Generate forecasts"
   ]
  },
  {
   "cell_type": "code",
   "execution_count": 9,
   "metadata": {},
   "outputs": [
    {
     "name": "stdout",
     "output_type": "stream",
     "text": [
      "t = 10.90\n"
     ]
    }
   ],
   "source": [
    "forecast_df = forecast(model_params, forecast_run_day, forecast_start_date, \n",
    "                       forecast_end_date, default_forecast_config)"
   ]
  },
  {
   "cell_type": "code",
   "execution_count": 10,
   "metadata": {},
   "outputs": [
    {
     "data": {
      "text/html": [
       "<div>\n",
       "<style scoped>\n",
       "    .dataframe tbody tr th:only-of-type {\n",
       "        vertical-align: middle;\n",
       "    }\n",
       "\n",
       "    .dataframe tbody tr th {\n",
       "        vertical-align: top;\n",
       "    }\n",
       "\n",
       "    .dataframe thead th {\n",
       "        text-align: right;\n",
       "    }\n",
       "</style>\n",
       "<table border=\"1\" class=\"dataframe\">\n",
       "  <thead>\n",
       "    <tr style=\"text-align: right;\">\n",
       "      <th>prediction_type</th>\n",
       "      <th>index</th>\n",
       "      <th>exposed</th>\n",
       "      <th>icu_mean</th>\n",
       "      <th>recovered_mean</th>\n",
       "      <th>deceased_mean</th>\n",
       "      <th>confirmed_mean</th>\n",
       "      <th>hospitalized_mean</th>\n",
       "      <th>active_mean</th>\n",
       "      <th>infected</th>\n",
       "      <th>final</th>\n",
       "      <th>...</th>\n",
       "      <th>hospitalized_min</th>\n",
       "      <th>hospitalized_max</th>\n",
       "      <th>icu_min</th>\n",
       "      <th>icu_max</th>\n",
       "      <th>recovered_min</th>\n",
       "      <th>recovered_max</th>\n",
       "      <th>deceased_min</th>\n",
       "      <th>deceased_max</th>\n",
       "      <th>confirmed_min</th>\n",
       "      <th>confirmed_max</th>\n",
       "    </tr>\n",
       "  </thead>\n",
       "  <tbody>\n",
       "    <tr>\n",
       "      <th>0</th>\n",
       "      <td>4/13/20</td>\n",
       "      <td>42557.289234</td>\n",
       "      <td>50.071038</td>\n",
       "      <td>873.756293</td>\n",
       "      <td>24.739174</td>\n",
       "      <td>1899.916237</td>\n",
       "      <td>1001.420769</td>\n",
       "      <td>1001.420769</td>\n",
       "      <td>9246.402020</td>\n",
       "      <td>898.495468</td>\n",
       "      <td>...</td>\n",
       "      <td>-4.434241e+05</td>\n",
       "      <td>4.454269e+05</td>\n",
       "      <td>-22171.204153</td>\n",
       "      <td>22271.346230</td>\n",
       "      <td>-3.868949e+05</td>\n",
       "      <td>3.886424e+05</td>\n",
       "      <td>-10954.381940</td>\n",
       "      <td>11003.860288</td>\n",
       "      <td>-8.412734e+05</td>\n",
       "      <td>8.450732e+05</td>\n",
       "    </tr>\n",
       "    <tr>\n",
       "      <th>1</th>\n",
       "      <td>4/14/20</td>\n",
       "      <td>42946.167242</td>\n",
       "      <td>76.161463</td>\n",
       "      <td>1794.281734</td>\n",
       "      <td>50.802550</td>\n",
       "      <td>3368.313542</td>\n",
       "      <td>1523.229257</td>\n",
       "      <td>1523.229257</td>\n",
       "      <td>16251.173376</td>\n",
       "      <td>1845.084285</td>\n",
       "      <td>...</td>\n",
       "      <td>-6.744783e+05</td>\n",
       "      <td>6.775247e+05</td>\n",
       "      <td>-33723.912934</td>\n",
       "      <td>33876.235860</td>\n",
       "      <td>-7.944989e+05</td>\n",
       "      <td>7.980875e+05</td>\n",
       "      <td>-22495.113999</td>\n",
       "      <td>22596.719100</td>\n",
       "      <td>-1.491472e+06</td>\n",
       "      <td>1.498209e+06</td>\n",
       "    </tr>\n",
       "    <tr>\n",
       "      <th>2</th>\n",
       "      <td>4/15/20</td>\n",
       "      <td>47528.363347</td>\n",
       "      <td>115.304361</td>\n",
       "      <td>3219.973529</td>\n",
       "      <td>91.168998</td>\n",
       "      <td>5617.229754</td>\n",
       "      <td>2306.087227</td>\n",
       "      <td>2306.087227</td>\n",
       "      <td>22986.441435</td>\n",
       "      <td>3311.142527</td>\n",
       "      <td>...</td>\n",
       "      <td>-1.021124e+06</td>\n",
       "      <td>1.025736e+06</td>\n",
       "      <td>-51056.191634</td>\n",
       "      <td>51286.800356</td>\n",
       "      <td>-1.425788e+06</td>\n",
       "      <td>1.432228e+06</td>\n",
       "      <td>-40369.174038</td>\n",
       "      <td>40551.512034</td>\n",
       "      <td>-2.487281e+06</td>\n",
       "      <td>2.498516e+06</td>\n",
       "    </tr>\n",
       "    <tr>\n",
       "      <th>3</th>\n",
       "      <td>4/16/20</td>\n",
       "      <td>55607.243709</td>\n",
       "      <td>160.892715</td>\n",
       "      <td>5291.506395</td>\n",
       "      <td>149.821522</td>\n",
       "      <td>8659.182211</td>\n",
       "      <td>3217.854293</td>\n",
       "      <td>3217.854293</td>\n",
       "      <td>30203.968441</td>\n",
       "      <td>5441.327918</td>\n",
       "      <td>...</td>\n",
       "      <td>-1.424850e+06</td>\n",
       "      <td>1.431285e+06</td>\n",
       "      <td>-71242.485340</td>\n",
       "      <td>71564.270769</td>\n",
       "      <td>-2.343052e+06</td>\n",
       "      <td>2.353635e+06</td>\n",
       "      <td>-66340.216980</td>\n",
       "      <td>66639.860024</td>\n",
       "      <td>-3.834242e+06</td>\n",
       "      <td>3.851561e+06</td>\n",
       "    </tr>\n",
       "    <tr>\n",
       "      <th>4</th>\n",
       "      <td>4/17/20</td>\n",
       "      <td>67055.637053</td>\n",
       "      <td>212.707149</td>\n",
       "      <td>8102.664890</td>\n",
       "      <td>229.415500</td>\n",
       "      <td>12586.223366</td>\n",
       "      <td>4254.142976</td>\n",
       "      <td>4254.142976</td>\n",
       "      <td>38482.239525</td>\n",
       "      <td>8332.080391</td>\n",
       "      <td>...</td>\n",
       "      <td>-1.883713e+06</td>\n",
       "      <td>1.892221e+06</td>\n",
       "      <td>-94185.656325</td>\n",
       "      <td>94611.070622</td>\n",
       "      <td>-3.587819e+06</td>\n",
       "      <td>3.604025e+06</td>\n",
       "      <td>-101584.030478</td>\n",
       "      <td>102042.861479</td>\n",
       "      <td>-5.573116e+06</td>\n",
       "      <td>5.598289e+06</td>\n",
       "    </tr>\n",
       "    <tr>\n",
       "      <th>5</th>\n",
       "      <td>4/18/20</td>\n",
       "      <td>82046.011192</td>\n",
       "      <td>272.721720</td>\n",
       "      <td>11759.474995</td>\n",
       "      <td>332.952908</td>\n",
       "      <td>17546.862312</td>\n",
       "      <td>5454.434408</td>\n",
       "      <td>5454.434408</td>\n",
       "      <td>48377.710788</td>\n",
       "      <td>12092.427904</td>\n",
       "      <td>...</td>\n",
       "      <td>-2.415196e+06</td>\n",
       "      <td>2.426105e+06</td>\n",
       "      <td>-120759.806980</td>\n",
       "      <td>121305.250421</td>\n",
       "      <td>-5.207036e+06</td>\n",
       "      <td>5.230555e+06</td>\n",
       "      <td>-147429.874305</td>\n",
       "      <td>148095.780122</td>\n",
       "      <td>-7.769662e+06</td>\n",
       "      <td>7.804756e+06</td>\n",
       "    </tr>\n",
       "    <tr>\n",
       "      <th>6</th>\n",
       "      <td>4/19/20</td>\n",
       "      <td>101152.099817</td>\n",
       "      <td>344.360503</td>\n",
       "      <td>16410.610752</td>\n",
       "      <td>464.643241</td>\n",
       "      <td>23762.464050</td>\n",
       "      <td>6887.210056</td>\n",
       "      <td>6887.210056</td>\n",
       "      <td>60402.152317</td>\n",
       "      <td>16875.253993</td>\n",
       "      <td>...</td>\n",
       "      <td>-3.049622e+06</td>\n",
       "      <td>3.063396e+06</td>\n",
       "      <td>-152481.099745</td>\n",
       "      <td>153169.820751</td>\n",
       "      <td>-7.266536e+06</td>\n",
       "      <td>7.299357e+06</td>\n",
       "      <td>-205741.691820</td>\n",
       "      <td>206670.978303</td>\n",
       "      <td>-1.052190e+07</td>\n",
       "      <td>1.056942e+07</td>\n",
       "    </tr>\n",
       "    <tr>\n",
       "      <th>7</th>\n",
       "      <td>4/20/20</td>\n",
       "      <td>125089.245956</td>\n",
       "      <td>431.090783</td>\n",
       "      <td>22257.754000</td>\n",
       "      <td>630.196836</td>\n",
       "      <td>31509.766505</td>\n",
       "      <td>8621.815669</td>\n",
       "      <td>8621.815669</td>\n",
       "      <td>75186.113043</td>\n",
       "      <td>22887.950836</td>\n",
       "      <td>...</td>\n",
       "      <td>-3.817697e+06</td>\n",
       "      <td>3.834940e+06</td>\n",
       "      <td>-190884.832057</td>\n",
       "      <td>191747.013624</td>\n",
       "      <td>-9.855622e+06</td>\n",
       "      <td>9.900137e+06</td>\n",
       "      <td>-279047.991170</td>\n",
       "      <td>280308.384841</td>\n",
       "      <td>-1.395237e+07</td>\n",
       "      <td>1.401539e+07</td>\n",
       "    </tr>\n",
       "    <tr>\n",
       "      <th>8</th>\n",
       "      <td>4/21/20</td>\n",
       "      <td>154849.626487</td>\n",
       "      <td>537.253055</td>\n",
       "      <td>29560.067993</td>\n",
       "      <td>836.951532</td>\n",
       "      <td>41142.080623</td>\n",
       "      <td>10745.061098</td>\n",
       "      <td>10745.061098</td>\n",
       "      <td>93443.733949</td>\n",
       "      <td>30397.019525</td>\n",
       "      <td>...</td>\n",
       "      <td>-4.757859e+06</td>\n",
       "      <td>4.779349e+06</td>\n",
       "      <td>-237892.952246</td>\n",
       "      <td>238967.458356</td>\n",
       "      <td>-1.308905e+07</td>\n",
       "      <td>1.314817e+07</td>\n",
       "      <td>-370597.931494</td>\n",
       "      <td>372271.834558</td>\n",
       "      <td>-1.821751e+07</td>\n",
       "      <td>1.829979e+07</td>\n",
       "    </tr>\n",
       "    <tr>\n",
       "      <th>9</th>\n",
       "      <td>4/22/20</td>\n",
       "      <td>191741.689896</td>\n",
       "      <td>668.075844</td>\n",
       "      <td>38650.066675</td>\n",
       "      <td>1094.321993</td>\n",
       "      <td>53105.905547</td>\n",
       "      <td>13361.516879</td>\n",
       "      <td>13361.516879</td>\n",
       "      <td>116004.983777</td>\n",
       "      <td>39744.388668</td>\n",
       "      <td>...</td>\n",
       "      <td>-5.916413e+06</td>\n",
       "      <td>5.943136e+06</td>\n",
       "      <td>-295820.625670</td>\n",
       "      <td>297156.777358</td>\n",
       "      <td>-1.711406e+07</td>\n",
       "      <td>1.719136e+07</td>\n",
       "      <td>-484560.277919</td>\n",
       "      <td>486748.921904</td>\n",
       "      <td>-2.351503e+07</td>\n",
       "      <td>2.362124e+07</td>\n",
       "    </tr>\n",
       "  </tbody>\n",
       "</table>\n",
       "<p>10 rows × 22 columns</p>\n",
       "</div>"
      ],
      "text/plain": [
       "prediction_type    index        exposed    icu_mean  recovered_mean  \\\n",
       "0                4/13/20   42557.289234   50.071038      873.756293   \n",
       "1                4/14/20   42946.167242   76.161463     1794.281734   \n",
       "2                4/15/20   47528.363347  115.304361     3219.973529   \n",
       "3                4/16/20   55607.243709  160.892715     5291.506395   \n",
       "4                4/17/20   67055.637053  212.707149     8102.664890   \n",
       "5                4/18/20   82046.011192  272.721720    11759.474995   \n",
       "6                4/19/20  101152.099817  344.360503    16410.610752   \n",
       "7                4/20/20  125089.245956  431.090783    22257.754000   \n",
       "8                4/21/20  154849.626487  537.253055    29560.067993   \n",
       "9                4/22/20  191741.689896  668.075844    38650.066675   \n",
       "\n",
       "prediction_type  deceased_mean  confirmed_mean  hospitalized_mean  \\\n",
       "0                    24.739174     1899.916237        1001.420769   \n",
       "1                    50.802550     3368.313542        1523.229257   \n",
       "2                    91.168998     5617.229754        2306.087227   \n",
       "3                   149.821522     8659.182211        3217.854293   \n",
       "4                   229.415500    12586.223366        4254.142976   \n",
       "5                   332.952908    17546.862312        5454.434408   \n",
       "6                   464.643241    23762.464050        6887.210056   \n",
       "7                   630.196836    31509.766505        8621.815669   \n",
       "8                   836.951532    41142.080623       10745.061098   \n",
       "9                  1094.321993    53105.905547       13361.516879   \n",
       "\n",
       "prediction_type   active_mean       infected         final  ...  \\\n",
       "0                 1001.420769    9246.402020    898.495468  ...   \n",
       "1                 1523.229257   16251.173376   1845.084285  ...   \n",
       "2                 2306.087227   22986.441435   3311.142527  ...   \n",
       "3                 3217.854293   30203.968441   5441.327918  ...   \n",
       "4                 4254.142976   38482.239525   8332.080391  ...   \n",
       "5                 5454.434408   48377.710788  12092.427904  ...   \n",
       "6                 6887.210056   60402.152317  16875.253993  ...   \n",
       "7                 8621.815669   75186.113043  22887.950836  ...   \n",
       "8                10745.061098   93443.733949  30397.019525  ...   \n",
       "9                13361.516879  116004.983777  39744.388668  ...   \n",
       "\n",
       "prediction_type  hospitalized_min  hospitalized_max        icu_min  \\\n",
       "0                   -4.434241e+05      4.454269e+05  -22171.204153   \n",
       "1                   -6.744783e+05      6.775247e+05  -33723.912934   \n",
       "2                   -1.021124e+06      1.025736e+06  -51056.191634   \n",
       "3                   -1.424850e+06      1.431285e+06  -71242.485340   \n",
       "4                   -1.883713e+06      1.892221e+06  -94185.656325   \n",
       "5                   -2.415196e+06      2.426105e+06 -120759.806980   \n",
       "6                   -3.049622e+06      3.063396e+06 -152481.099745   \n",
       "7                   -3.817697e+06      3.834940e+06 -190884.832057   \n",
       "8                   -4.757859e+06      4.779349e+06 -237892.952246   \n",
       "9                   -5.916413e+06      5.943136e+06 -295820.625670   \n",
       "\n",
       "prediction_type        icu_max  recovered_min  recovered_max   deceased_min  \\\n",
       "0                 22271.346230  -3.868949e+05   3.886424e+05  -10954.381940   \n",
       "1                 33876.235860  -7.944989e+05   7.980875e+05  -22495.113999   \n",
       "2                 51286.800356  -1.425788e+06   1.432228e+06  -40369.174038   \n",
       "3                 71564.270769  -2.343052e+06   2.353635e+06  -66340.216980   \n",
       "4                 94611.070622  -3.587819e+06   3.604025e+06 -101584.030478   \n",
       "5                121305.250421  -5.207036e+06   5.230555e+06 -147429.874305   \n",
       "6                153169.820751  -7.266536e+06   7.299357e+06 -205741.691820   \n",
       "7                191747.013624  -9.855622e+06   9.900137e+06 -279047.991170   \n",
       "8                238967.458356  -1.308905e+07   1.314817e+07 -370597.931494   \n",
       "9                297156.777358  -1.711406e+07   1.719136e+07 -484560.277919   \n",
       "\n",
       "prediction_type   deceased_max  confirmed_min  confirmed_max  \n",
       "0                 11003.860288  -8.412734e+05   8.450732e+05  \n",
       "1                 22596.719100  -1.491472e+06   1.498209e+06  \n",
       "2                 40551.512034  -2.487281e+06   2.498516e+06  \n",
       "3                 66639.860024  -3.834242e+06   3.851561e+06  \n",
       "4                102042.861479  -5.573116e+06   5.598289e+06  \n",
       "5                148095.780122  -7.769662e+06   7.804756e+06  \n",
       "6                206670.978303  -1.052190e+07   1.056942e+07  \n",
       "7                280308.384841  -1.395237e+07   1.401539e+07  \n",
       "8                372271.834558  -1.821751e+07   1.829979e+07  \n",
       "9                486748.921904  -2.351503e+07   2.362124e+07  \n",
       "\n",
       "[10 rows x 22 columns]"
      ]
     },
     "execution_count": 10,
     "metadata": {},
     "output_type": "execute_result"
    }
   ],
   "source": [
    "forecast_df"
   ]
  },
  {
   "cell_type": "markdown",
   "metadata": {},
   "source": [
    "## Generate plots"
   ]
  },
  {
   "cell_type": "code",
   "execution_count": 11,
   "metadata": {},
   "outputs": [
    {
     "data": {
      "image/png": "[encoded data removed]",
      "text/plain": [
       "<Figure size 1080x360 with 1 Axes>"
      ]
     },
     "metadata": {
      "needs_background": "light"
     },
     "output_type": "display_data"
    }
   ],
   "source": [
    "plot(model_params, forecast_df, forecast_start_date, forecast_end_date)"
   ]
  }
 ],
 "metadata": {
  "kernelspec": {
   "display_name": "Python [conda env:covid] *",
   "language": "python",
   "name": "conda-env-covid-py"
  },
  "language_info": {
   "codemirror_mode": {
    "name": "ipython",
    "version": 3
   },
   "file_extension": ".py",
   "mimetype": "text/x-python",
   "name": "python",
   "nbconvert_exporter": "python",
   "pygments_lexer": "ipython3",
   "version": "3.6.10"
  }
 },
 "nbformat": 4,
 "nbformat_minor": 4
}
