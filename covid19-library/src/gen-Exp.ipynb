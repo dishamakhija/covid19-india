{
 "cells": [
  {
   "cell_type": "code",
   "execution_count": 1,
   "metadata": {},
   "outputs": [],
   "source": [
    "from configs.base_config import TrainingModuleConfig\n",
    "from configs.base_config import ModelEvaluatorConfig\n",
    "import json\n",
    "# from modules.data_fetcher_module import DataFetcherModule\n",
    "# from modules.forecasting_module import ForecastingModule\n",
    "# from configs.base_config import ForecastingModuleConfig\n",
    "# from modules.model_evaluator import ModelEvaluator\n",
    "from modules.training_module import TrainingModule"
   ]
  },
  {
   "cell_type": "code",
   "execution_count": 2,
   "metadata": {},
   "outputs": [],
   "source": [
    "with open('../config/sample_training_config-generalised.json') as f_train, \\\n",
    "    open('test_config.json') as f_test, \\\n",
    "    open('forecast_config.json') as f_forecast:\n",
    "    default_train_config = json.load(f_train)\n",
    "    default_test_config = json.load(f_test)\n",
    "    default_forecast_config = json.load(f_forecast)"
   ]
  },
  {
   "cell_type": "code",
   "execution_count": 3,
   "metadata": {
    "scrolled": false
   },
   "outputs": [
    {
     "data": {
      "text/plain": [
       "{'region_name': 'mumbai',\n",
       " 'region_type': 'district',\n",
       " 'train_start_date': '3/22/20',\n",
       " 'train_end_date': '4/1/20',\n",
       " 'model_class': 'SEIR_gen',\n",
       " 'model_parameters': {'incubation_period': 6},\n",
       " 'latent_information': {'latent_variables': ['exposed', 'active'],\n",
       "  'latent_on': 'confirmed'},\n",
       " 'search_space': {'r0': [0.8, 6],\n",
       "  'exposed_ratio': [1, 70],\n",
       "  'active_ratio': [0.2, 1],\n",
       "  'infectious_period': [0, 10],\n",
       "  'hospitalization_period': [10, 20],\n",
       "  'deceased_ratio': [0, 1]},\n",
       " 'search_parameters': {'max_evals': 100},\n",
       " 'training_loss_function': {'metric_name': 'mape',\n",
       "  'variable_weights': [{'variable': 'confirmed', 'weight': 1}]},\n",
       " 'loss_functions': [{'metric_name': 'mape',\n",
       "   'variable_weights': [{'variable': 'confirmed', 'weight': 1}]},\n",
       "  {'metric_name': 'rmse',\n",
       "   'variable_weights': [{'variable': 'confirmed', 'weight': 1}]}],\n",
       " 'output_filepath': 'seir_train.json'}"
      ]
     },
     "execution_count": 3,
     "metadata": {},
     "output_type": "execute_result"
    }
   ],
   "source": [
    "default_train_config"
   ]
  },
  {
   "cell_type": "code",
   "execution_count": 4,
   "metadata": {
    "scrolled": false
   },
   "outputs": [
    {
     "name": "stdout",
     "output_type": "stream",
     "text": [
      "100%|██████████| 100/100 [00:04<00:00, 23.04trial/s, best loss: 15.566945792073211]\n",
      "Best fit: {'active_ratio': 0.5982752529008803, 'deceased_ratio': 0.38798652733392236, 'exposed_ratio': 7.314679997445611, 'hospitalization_period': 10.511759723628229, 'infectious_period': 7.513060484390147, 'r0': 1.85969289814775}\n",
      "Best Loss: 15.566945792073211\n"
     ]
    }
   ],
   "source": [
    "trainResults = TrainingModule.from_config_file('../config/sample_training_config-generalised.json')"
   ]
  },
  {
   "cell_type": "code",
   "execution_count": 5,
   "metadata": {},
   "outputs": [
    {
     "data": {
      "text/plain": [
       "{'best_params': {'active_ratio': 0.7156407976052288,\n",
       "  'deceased_period': 13.774443591602449,\n",
       "  'exposed_ratio': 36.64978812483917,\n",
       "  'hospitalization_period': 14.929267502139092,\n",
       "  'infectious_period': 0.9338361029768261,\n",
       "  'r0': 5.036056421515756},\n",
       " 'best_loss': 608.7038908648178,\n",
       " 'latent_params': {'Latent_exposed_ratio': {'3/21/20': 36.64978812483917,\n",
       "   '4/1/20': 0.4692789565217111},\n",
       "  'Latent_active_ratio': {'3/21/20': 0.7156407976052288,\n",
       "   '4/1/20': 0.07528607177394109}},\n",
       " 'model_parameters': OrderedDict([('incubation_period', 6),\n",
       "              ('active_ratio', 0.7156407976052288),\n",
       "              ('deceased_period', 13.774443591602449),\n",
       "              ('exposed_ratio', 36.64978812483917),\n",
       "              ('hospitalization_period', 14.929267502139092),\n",
       "              ('infectious_period', 0.9338361029768261),\n",
       "              ('r0', 5.036056421515756),\n",
       "              ('Latent_exposed_ratio',\n",
       "               {'3/21/20': 36.64978812483917, '4/1/20': 0.4692789565217111}),\n",
       "              ('Latent_active_ratio',\n",
       "               {'3/21/20': 0.7156407976052288, '4/1/20': 0.07528607177394109}),\n",
       "              ('MAPE', 608.7038908648178)]),\n",
       " 'train_metric_results': [{'metric_name': <MetricName.mape: 'mape'>,\n",
       "   'variable_weights': [{'variable': <ForecastVariable.confirmed: 'confirmed'>,\n",
       "     'weight': 1.0}],\n",
       "   'value': 608.7038908648178},\n",
       "  {'metric_name': <MetricName.rmse: 'rmse'>,\n",
       "   'variable_weights': [{'variable': <ForecastVariable.confirmed: 'confirmed'>,\n",
       "     'weight': 1.0}],\n",
       "   'value': 504.008940702213}]}"
      ]
     },
     "execution_count": 5,
     "metadata": {},
     "output_type": "execute_result"
    }
   ],
   "source": [
    "trainResults"
   ]
  },
  {
   "cell_type": "code",
   "execution_count": null,
   "metadata": {},
   "outputs": [],
   "source": []
  },
  {
   "cell_type": "code",
   "execution_count": 5,
   "metadata": {},
   "outputs": [],
   "source": [
    "from configs.base_config import TrainingModuleConfig\n",
    "from utils.config_util import read_config_file"
   ]
  },
  {
   "cell_type": "code",
   "execution_count": 6,
   "metadata": {},
   "outputs": [],
   "source": [
    "config = read_config_file('../config/sample_training_config-generalised.json')\n",
    "training_module_config = TrainingModuleConfig.parse_obj(config)"
   ]
  },
  {
   "cell_type": "code",
   "execution_count": 7,
   "metadata": {},
   "outputs": [
    {
     "data": {
      "text/plain": [
       "'exposed'"
      ]
     },
     "execution_count": 7,
     "metadata": {},
     "output_type": "execute_result"
    }
   ],
   "source": [
    "training_module_config.latent_information['latent_variables'][0].name"
   ]
  },
  {
   "cell_type": "code",
   "execution_count": 8,
   "metadata": {},
   "outputs": [],
   "source": [
    "from seirsplus.models import *"
   ]
  },
  {
   "cell_type": "code",
   "execution_count": null,
   "metadata": {},
   "outputs": [],
   "source": []
  },
  {
   "cell_type": "code",
   "execution_count": null,
   "metadata": {},
   "outputs": [],
   "source": []
  }
 ],
 "metadata": {
  "kernelspec": {
   "display_name": "Python 3",
   "language": "python",
   "name": "python3"
  },
  "language_info": {
   "codemirror_mode": {
    "name": "ipython",
    "version": 3
   },
   "file_extension": ".py",
   "mimetype": "text/x-python",
   "name": "python",
   "nbconvert_exporter": "python",
   "pygments_lexer": "ipython3",
   "version": "3.7.3"
  }
 },
 "nbformat": 4,
 "nbformat_minor": 2
}
