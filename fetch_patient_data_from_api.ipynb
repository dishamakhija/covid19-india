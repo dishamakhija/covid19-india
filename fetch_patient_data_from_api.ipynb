{
 "cells": [
  {
   "cell_type": "code",
   "execution_count": 1,
   "metadata": {},
   "outputs": [],
   "source": [
    "from __future__ import division\n",
    "\n",
    "import requests\n",
    "import json\n",
    "import pandas as pd\n",
    "import numpy as np\n",
    "import math\n",
    "\n",
    "from datetime import datetime, timedelta\n"
   ]
  },
  {
   "cell_type": "code",
   "execution_count": 2,
   "metadata": {},
   "outputs": [],
   "source": [
    "def fetch_data_api(api_string):\n",
    "    response = requests.get(api_string)\n",
    "    data = json.loads(response.content)\n",
    "    result = []\n",
    "    for datewise_data in data['data']['rawPatientData']:\n",
    "        flat = {}\n",
    "        final_data = {}\n",
    "        flat['patientId'] = datewise_data['patientId']\n",
    "        flat['reportedOn'] = datewise_data['reportedOn']\n",
    "        flat['onsetEstimate'] = datewise_data['onsetEstimate']\n",
    "        flat['ageEstimate'] = datewise_data['ageEstimate']\n",
    "        flat['gender'] = datewise_data['gender']\n",
    "        flat['city'] = datewise_data['city']\n",
    "        flat['district'] = datewise_data['district']\n",
    "        flat['state'] = datewise_data['state']\n",
    "        flat['notes'] = datewise_data['notes']\n",
    "        #flat['contractedFrom'] = datewise_data['contractedFrom']\n",
    "        flat['status'] = datewise_data['status']\n",
    "        flat['relationship'] = datewise_data['relationship']\n",
    "        flat['travel'] = datewise_data['travel']\n",
    "        \n",
    "        result.append(flat)\n",
    "    return pd.DataFrame(result)\n"
   ]
  },
  {
   "cell_type": "code",
   "execution_count": null,
   "metadata": {},
   "outputs": [],
   "source": [
    "patient_id_data = fetch_data_api(\"https://api.rootnet.in/covid19-in/unofficial/covid19india.org\")"
   ]
  },
  {
   "cell_type": "code",
   "execution_count": null,
   "metadata": {},
   "outputs": [],
   "source": [
    "patient_data_id_file = \"\"\n",
    "patient_id_data.to_csv(patient_data_id_file)"
   ]
  }
 ],
 "metadata": {
  "kernelspec": {
   "display_name": "Python 3",
   "language": "python",
   "name": "python3"
  },
  "language_info": {
   "codemirror_mode": {
    "name": "ipython",
    "version": 3
   },
   "file_extension": ".py",
   "mimetype": "text/x-python",
   "name": "python",
   "nbconvert_exporter": "python",
   "pygments_lexer": "ipython3",
   "version": "3.7.3"
  }
 },
 "nbformat": 4,
 "nbformat_minor": 2
}
